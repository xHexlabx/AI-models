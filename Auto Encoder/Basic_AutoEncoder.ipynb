{
  "nbformat": 4,
  "nbformat_minor": 0,
  "metadata": {
    "colab": {
      "provenance": [],
      "toc_visible": true,
      "mount_file_id": "14w9a9iAUrzJKzY3PTIdpz1YJRv9BctEA",
      "authorship_tag": "ABX9TyNXhtasJmQsOVv9GQ0o4b68",
      "include_colab_link": true
    },
    "kernelspec": {
      "name": "python3",
      "display_name": "Python 3"
    },
    "language_info": {
      "name": "python"
    },
    "accelerator": "GPU",
    "gpuClass": "standard"
  },
  "cells": [
    {
      "cell_type": "markdown",
      "metadata": {
        "id": "view-in-github",
        "colab_type": "text"
      },
      "source": [
        "<a href=\"https://colab.research.google.com/github/xHexlabx/AI-models/blob/main/Auto%20Encoder/Basic_AutoEncoder.ipynb\" target=\"_parent\"><img src=\"https://colab.research.google.com/assets/colab-badge.svg\" alt=\"Open In Colab\"/></a>"
      ]
    },
    {
      "cell_type": "markdown",
      "source": [
        "# Basic Autoencoder\n"
      ],
      "metadata": {
        "id": "SyvkAiAKrvbk"
      }
    },
    {
      "cell_type": "code",
      "execution_count": null,
      "metadata": {
        "id": "qU3IbCZCMmxh"
      },
      "outputs": [],
      "source": [
        "import numpy as np\n",
        "import tensorflow as tf\n",
        "import matplotlib.pyplot as plt"
      ]
    },
    {
      "cell_type": "code",
      "source": [
        "x = np.eye(8)"
      ],
      "metadata": {
        "id": "CFAkJjWKPKiU"
      },
      "execution_count": null,
      "outputs": []
    },
    {
      "cell_type": "code",
      "source": [
        "print(x)"
      ],
      "metadata": {
        "colab": {
          "base_uri": "https://localhost:8080/"
        },
        "id": "rzWbxYiIPRSM",
        "outputId": "5e98d751-8572-40f8-8862-67584d88fab0"
      },
      "execution_count": null,
      "outputs": [
        {
          "output_type": "stream",
          "name": "stdout",
          "text": [
            "[[1. 0. 0. 0. 0. 0. 0. 0.]\n",
            " [0. 1. 0. 0. 0. 0. 0. 0.]\n",
            " [0. 0. 1. 0. 0. 0. 0. 0.]\n",
            " [0. 0. 0. 1. 0. 0. 0. 0.]\n",
            " [0. 0. 0. 0. 1. 0. 0. 0.]\n",
            " [0. 0. 0. 0. 0. 1. 0. 0.]\n",
            " [0. 0. 0. 0. 0. 0. 1. 0.]\n",
            " [0. 0. 0. 0. 0. 0. 0. 1.]]\n"
          ]
        }
      ]
    },
    {
      "cell_type": "code",
      "source": [
        "inputs = tf.keras.Input(shape  = x.shape[1])"
      ],
      "metadata": {
        "id": "ESaCfrcQsvcu"
      },
      "execution_count": null,
      "outputs": []
    },
    {
      "cell_type": "code",
      "source": [
        "encoder = tf.keras.layers.Dense(6 , activation = 'sigmoid' )\n",
        "encoder = tf.keras.layers.Dense(3 , activation = 'sigmoid')"
      ],
      "metadata": {
        "id": "Up7vi-N6r6zN"
      },
      "execution_count": null,
      "outputs": []
    },
    {
      "cell_type": "code",
      "source": [
        "decoder = tf.keras.layers.Dense(x.shape[1] , activation = 'sigmoid')"
      ],
      "metadata": {
        "id": "ccSIff3EsG6x"
      },
      "execution_count": null,
      "outputs": []
    },
    {
      "cell_type": "code",
      "source": [
        "outputs = decoder(encoder(inputs))"
      ],
      "metadata": {
        "id": "9Mrlb65zsrgE"
      },
      "execution_count": null,
      "outputs": []
    },
    {
      "cell_type": "code",
      "source": [
        "model = tf.keras.Model(inputs , outputs)"
      ],
      "metadata": {
        "id": "wXU3x4IVs-fg"
      },
      "execution_count": null,
      "outputs": []
    },
    {
      "cell_type": "code",
      "source": [
        "model.compile(loss = \"mse\" , optimizer = 'adam')"
      ],
      "metadata": {
        "id": "kUfUdNPvtGw0"
      },
      "execution_count": null,
      "outputs": []
    },
    {
      "cell_type": "code",
      "source": [
        "model.fit(x  , x , epochs = 8000 , verbose  = 0)"
      ],
      "metadata": {
        "colab": {
          "base_uri": "https://localhost:8080/"
        },
        "id": "qKWbiHhttm71",
        "outputId": "07f8c805-c372-416c-85c1-8500d4e82802"
      },
      "execution_count": null,
      "outputs": [
        {
          "output_type": "execute_result",
          "data": {
            "text/plain": [
              "<keras.callbacks.History at 0x7f6c71096910>"
            ]
          },
          "metadata": {},
          "execution_count": 10
        }
      ]
    },
    {
      "cell_type": "code",
      "source": [
        "z = model(x)"
      ],
      "metadata": {
        "id": "M-X5OV7ptw8d"
      },
      "execution_count": null,
      "outputs": []
    },
    {
      "cell_type": "code",
      "source": [
        "print(x)"
      ],
      "metadata": {
        "colab": {
          "base_uri": "https://localhost:8080/"
        },
        "id": "6yW7v3Vwt0TM",
        "outputId": "a545e549-1ce2-4b02-b241-eb80d0021915"
      },
      "execution_count": null,
      "outputs": [
        {
          "output_type": "stream",
          "name": "stdout",
          "text": [
            "[[1. 0. 0. 0. 0. 0. 0. 0.]\n",
            " [0. 1. 0. 0. 0. 0. 0. 0.]\n",
            " [0. 0. 1. 0. 0. 0. 0. 0.]\n",
            " [0. 0. 0. 1. 0. 0. 0. 0.]\n",
            " [0. 0. 0. 0. 1. 0. 0. 0.]\n",
            " [0. 0. 0. 0. 0. 1. 0. 0.]\n",
            " [0. 0. 0. 0. 0. 0. 1. 0.]\n",
            " [0. 0. 0. 0. 0. 0. 0. 1.]]\n"
          ]
        }
      ]
    },
    {
      "cell_type": "code",
      "source": [
        "print(np.round(z))"
      ],
      "metadata": {
        "colab": {
          "base_uri": "https://localhost:8080/"
        },
        "id": "avreaqPft1b6",
        "outputId": "8914e0a1-e686-4ab8-9eaf-6f1ea5052090"
      },
      "execution_count": null,
      "outputs": [
        {
          "output_type": "stream",
          "name": "stdout",
          "text": [
            "[[1. 0. 0. 0. 0. 0. 0. 0.]\n",
            " [0. 1. 0. 0. 0. 0. 0. 0.]\n",
            " [0. 0. 1. 0. 0. 0. 0. 0.]\n",
            " [0. 0. 0. 1. 0. 0. 0. 0.]\n",
            " [0. 0. 0. 0. 1. 0. 0. 0.]\n",
            " [0. 0. 0. 0. 0. 1. 0. 0.]\n",
            " [0. 0. 0. 0. 0. 0. 1. 0.]\n",
            " [0. 0. 0. 0. 0. 0. 0. 1.]]\n"
          ]
        }
      ]
    },
    {
      "cell_type": "code",
      "source": [
        "print(np.round(encoder(x)))"
      ],
      "metadata": {
        "colab": {
          "base_uri": "https://localhost:8080/"
        },
        "id": "KRRI0Llxt3xU",
        "outputId": "ea617431-810b-4e88-c891-55ef5bc81707"
      },
      "execution_count": null,
      "outputs": [
        {
          "output_type": "stream",
          "name": "stdout",
          "text": [
            "[[0. 0. 1.]\n",
            " [0. 0. 1.]\n",
            " [0. 0. 0.]\n",
            " [0. 1. 1.]\n",
            " [0. 1. 0.]\n",
            " [1. 0. 1.]\n",
            " [1. 0. 0.]\n",
            " [1. 1. 0.]]\n"
          ]
        }
      ]
    },
    {
      "cell_type": "markdown",
      "source": [
        "# Mnist Autoencoder\n"
      ],
      "metadata": {
        "id": "dTz4aYGAV_Fi"
      }
    },
    {
      "cell_type": "code",
      "source": [
        "import tensorflow as tf\n",
        "from tensorflow.keras import layers\n",
        "import numpy as np\n",
        "import matplotlib.pyplot as plt"
      ],
      "metadata": {
        "id": "l0_xavBqWHFB"
      },
      "execution_count": null,
      "outputs": []
    },
    {
      "cell_type": "code",
      "source": [
        "datasets = tf.keras.datasets.mnist.load_data()"
      ],
      "metadata": {
        "id": "20iR5AEqWuIc",
        "colab": {
          "base_uri": "https://localhost:8080/"
        },
        "outputId": "c58d6a6c-081b-467d-cfbe-266affa131e2"
      },
      "execution_count": null,
      "outputs": [
        {
          "output_type": "stream",
          "name": "stdout",
          "text": [
            "Downloading data from https://storage.googleapis.com/tensorflow/tf-keras-datasets/mnist.npz\n",
            "11490434/11490434 [==============================] - 2s 0us/step\n"
          ]
        }
      ]
    },
    {
      "cell_type": "code",
      "source": [
        "(xtrain , ytrain) , (xtest , ytest) = datasets"
      ],
      "metadata": {
        "id": "RAi93lr8W0Nl"
      },
      "execution_count": null,
      "outputs": []
    },
    {
      "cell_type": "code",
      "source": [
        "xtrain = xtrain[ : , : , : , None] / 255.0\n",
        "xtest = xtest[ : , : , : , None] / 255.0"
      ],
      "metadata": {
        "id": "0tytw0eVW9Wu"
      },
      "execution_count": null,
      "outputs": []
    },
    {
      "cell_type": "code",
      "source": [
        "xtrain = tf.image.resize(xtrain ,(32 , 32))\n",
        "xtest = tf.image.resize(xtest , (32 , 32))"
      ],
      "metadata": {
        "id": "Il9jbXM-XCel"
      },
      "execution_count": null,
      "outputs": []
    },
    {
      "cell_type": "code",
      "source": [
        "fig = plt.figure(figsize=(8 , 8))\n",
        "for i in range(9) : \n",
        "    fig.add_subplot(3 , 3 , i + 1) \n",
        "    plt.imshow(np.reshape(xtrain[i] , (32 , 32)))"
      ],
      "metadata": {
        "colab": {
          "base_uri": "https://localhost:8080/",
          "height": 485
        },
        "id": "njXkXEmgjau2",
        "outputId": "36ecd9c9-f21b-4784-8772-32eb352ac03a"
      },
      "execution_count": null,
      "outputs": [
        {
          "output_type": "display_data",
          "data": {
            "text/plain": [
              "<Figure size 576x576 with 9 Axes>"
            ],
            "image/png": "[encoded data removed]"
          },
          "metadata": {
            "needs_background": "light"
          }
        }
      ]
    },
    {
      "cell_type": "code",
      "source": [
        "xtrain = np.reshape(xtrain , (60000 , 32 * 32) )\n",
        "xtest = np.reshape(xtest , (10000 , 32 * 32))"
      ],
      "metadata": {
        "id": "aP8TG1-uYRD2"
      },
      "execution_count": null,
      "outputs": []
    },
    {
      "cell_type": "code",
      "source": [
        "print(xtrain.shape , xtest.shape)"
      ],
      "metadata": {
        "id": "8FogMUgzZMsz",
        "colab": {
          "base_uri": "https://localhost:8080/"
        },
        "outputId": "c2c0e20b-5f40-4fdc-da48-e19701bf617f"
      },
      "execution_count": null,
      "outputs": [
        {
          "output_type": "stream",
          "name": "stdout",
          "text": [
            "(60000, 1024) (10000, 1024)\n"
          ]
        }
      ]
    },
    {
      "cell_type": "code",
      "source": [
        "# model 1024 - 512 - 256 - 128 - 32 - 16 - 32 - 128 - 256 - 512 - 1024"
      ],
      "metadata": {
        "id": "JBpjrYlIlrKN"
      },
      "execution_count": null,
      "outputs": []
    },
    {
      "cell_type": "code",
      "source": [
        "#encoder\n",
        "encoder_inputs = tf.keras.Input(shape = (1024 , ))\n",
        "\n",
        "encoded = tf.keras.layers.Dense(512 , activation = 'relu')(encoder_inputs)\n",
        "encoded = tf.keras.layers.Dense(256 , activation = 'relu')(encoded)\n",
        "encoded = tf.keras.layers.Dense(128 , activation = 'relu')(encoded)\n",
        "encoded = tf.keras.layers.Dense(64, activation = 'relu')(encoded)\n",
        "encoded = tf.keras.layers.Dense(32, activation = 'relu')(encoded)\n",
        "encoded = tf.keras.layers.Dense(16 , activation = 'relu')(encoded)\n",
        "\n",
        "encoder  = tf.keras.Model(encoder_inputs , encoded)"
      ],
      "metadata": {
        "id": "gT_wDTzg5Q1S"
      },
      "execution_count": null,
      "outputs": []
    },
    {
      "cell_type": "code",
      "source": [
        "#decoder\n",
        "decoder_inputs = tf.keras.Input(shape = (16 , ))\n",
        "\n",
        "decoded = tf.keras.layers.Dense(32, activation = 'relu')(decoder_inputs)\n",
        "decoded = tf.keras.layers.Dense(64, activation = 'relu')(decoded)\n",
        "decoded = tf.keras.layers.Dense(128, activation = 'relu')(decoded)\n",
        "decoded = tf.keras.layers.Dense(256, activation = 'relu')(decoded)\n",
        "decoded = tf.keras.layers.Dense(512, activation = 'relu')(decoded)\n",
        "decoded = tf.keras.layers.Dense(1024, activation = 'sigmoid')(decoded)\n",
        "\n",
        "decoder  =tf.keras.Model(decoder_inputs , decoded)"
      ],
      "metadata": {
        "id": "fv947BNs5UWs"
      },
      "execution_count": null,
      "outputs": []
    },
    {
      "cell_type": "code",
      "source": [
        "inputs = tf.keras.Input(shape = (1024 , ))\n",
        "\n",
        "outputs  = decoder(encoder(inputs))\n",
        "\n",
        "autoencoder  = tf.keras.Model(inputs , outputs)\n",
        "autoencoder.compile(loss = 'mse' , optimizer = 'adam')"
      ],
      "metadata": {
        "id": "o-kNngqk6Biy"
      },
      "execution_count": null,
      "outputs": []
    },
    {
      "cell_type": "code",
      "source": [
        "autoencoder.fit(xtrain , xtrain , epochs = 50 , verbose = 0)"
      ],
      "metadata": {
        "colab": {
          "base_uri": "https://localhost:8080/"
        },
        "id": "YNAU98iFl66-",
        "outputId": "1176dc44-ea01-4e03-95e9-d768d672d58b"
      },
      "execution_count": null,
      "outputs": [
        {
          "output_type": "execute_result",
          "data": {
            "text/plain": [
              "<keras.callbacks.History at 0x7f599c0fe610>"
            ]
          },
          "metadata": {},
          "execution_count": 16
        }
      ]
    },
    {
      "cell_type": "code",
      "source": [
        "z = autoencoder.predict(xtrain)"
      ],
      "metadata": {
        "colab": {
          "base_uri": "https://localhost:8080/"
        },
        "id": "TMWEGskJm9aU",
        "outputId": "b207dfcd-a6a8-40c0-c94c-01a61f4904a5"
      },
      "execution_count": null,
      "outputs": [
        {
          "output_type": "stream",
          "name": "stdout",
          "text": [
            "1875/1875 [==============================] - 5s 2ms/step\n"
          ]
        }
      ]
    },
    {
      "cell_type": "code",
      "source": [
        "z = np.reshape(z , (60000 , 32 , 32 , 1))"
      ],
      "metadata": {
        "id": "moC-R4Q4nFkp"
      },
      "execution_count": null,
      "outputs": []
    },
    {
      "cell_type": "code",
      "source": [
        "fig = plt.figure(figsize=(8 , 8))\n",
        "for i in range(9) : \n",
        "    fig.add_subplot(3 , 3 , i + 1) \n",
        "    plt.imshow(np.reshape(z[i] , (32 , 32)))"
      ],
      "metadata": {
        "colab": {
          "base_uri": "https://localhost:8080/",
          "height": 485
        },
        "id": "HZqELhlBnBBq",
        "outputId": "4561609c-cfd8-4730-e3ca-1915715c96c9"
      },
      "execution_count": null,
      "outputs": [
        {
          "output_type": "display_data",
          "data": {
            "text/plain": [
              "<Figure size 576x576 with 9 Axes>"
            ],
            "image/png": "[encoded data removed]"
          },
          "metadata": {
            "needs_background": "light"
          }
        }
      ]
    },
    {
      "cell_type": "markdown",
      "source": [
        "# Upsampling Autoencoder\n"
      ],
      "metadata": {
        "id": "PFNyDXk6eObS"
      }
    },
    {
      "cell_type": "code",
      "source": [
        "import tensorflow as tf \n",
        "import numpy as np\n",
        "import matplotlib.pyplot as plt\n",
        "import tensorflow.keras.layers as layers"
      ],
      "metadata": {
        "id": "IWc3CiekeWYw"
      },
      "execution_count": null,
      "outputs": []
    },
    {
      "cell_type": "code",
      "source": [
        "datasets = tf.keras.datasets.mnist.load_data()"
      ],
      "metadata": {
        "id": "DI7qNjs3er6V",
        "colab": {
          "base_uri": "https://localhost:8080/"
        },
        "outputId": "d4e82119-a9cf-4fce-8c2a-bdad39e78496"
      },
      "execution_count": null,
      "outputs": [
        {
          "output_type": "stream",
          "name": "stdout",
          "text": [
            "Downloading data from https://storage.googleapis.com/tensorflow/tf-keras-datasets/mnist.npz\n",
            "11490434/11490434 [==============================] - 2s 0us/step\n"
          ]
        }
      ]
    },
    {
      "cell_type": "code",
      "source": [
        "(xtrain , ytrain) , (xtest , ytest) = datasets"
      ],
      "metadata": {
        "id": "ek5pb9acfqxc"
      },
      "execution_count": null,
      "outputs": []
    },
    {
      "cell_type": "code",
      "source": [
        "xtrain = xtrain[: , : , : , None] / 255.0\n",
        "xtest = xtest[: , : , : , None] / 255.0"
      ],
      "metadata": {
        "id": "2i-I_kXRgV9T"
      },
      "execution_count": null,
      "outputs": []
    },
    {
      "cell_type": "code",
      "source": [
        "xtrain  = tf.image.resize(xtrain , (32 , 32))\n",
        "xtest = tf.image.resize(xtest , (32 , 32))"
      ],
      "metadata": {
        "id": "auWCZl-Mgc_d"
      },
      "execution_count": null,
      "outputs": []
    },
    {
      "cell_type": "code",
      "source": [
        "fig = plt.figure(figsize = (6 , 6))\n",
        "\n",
        "for i in range(9) : \n",
        "    fig.add_subplot(3 , 3 , i + 1)\n",
        "    plt.imshow(np.reshape(xtrain[i] , (32 , 32)))\n",
        "    plt.axis('off')"
      ],
      "metadata": {
        "colab": {
          "base_uri": "https://localhost:8080/",
          "height": 357
        },
        "id": "XcKQPQMZgulI",
        "outputId": "d9dd4476-e3ed-4717-c762-3e83cff8a53c"
      },
      "execution_count": null,
      "outputs": [
        {
          "output_type": "display_data",
          "data": {
            "text/plain": [
              "<Figure size 432x432 with 9 Axes>"
            ],
            "image/png": "[encoded data removed]"
          },
          "metadata": {
            "needs_background": "light"
          }
        }
      ]
    },
    {
      "cell_type": "code",
      "source": [
        "print(xtrain.shape , xtest.shape)"
      ],
      "metadata": {
        "colab": {
          "base_uri": "https://localhost:8080/"
        },
        "id": "BktGzocIhTY_",
        "outputId": "0dcf77d9-8dc2-4f1d-e5b3-e7c478b8ad2d"
      },
      "execution_count": null,
      "outputs": [
        {
          "output_type": "stream",
          "name": "stdout",
          "text": [
            "(60000, 32, 32, 1) (10000, 32, 32, 1)\n"
          ]
        }
      ]
    },
    {
      "cell_type": "code",
      "source": [
        "#32 - 16 - 8 - 4 - 8 - 16 - 32 "
      ],
      "metadata": {
        "id": "uJIkkFfnhpVf"
      },
      "execution_count": null,
      "outputs": []
    },
    {
      "cell_type": "code",
      "source": [
        "#encoder\n",
        "encoder_inputs = tf.keras.Input(shape = (32 , 32 , 1))\n",
        "\n",
        "encoded = layers.Conv2D(16 , (3 , 3) , padding = 'same' , activation = 'relu')(encoder_inputs) \n",
        "encoded = layers.MaxPool2D()(encoded)\n",
        "# 16x16x16\n",
        "encoded = layers.Conv2D(16 , (3 , 3) , padding = 'same' , activation = 'relu')(encoded) \n",
        "encoded = layers.MaxPool2D()(encoded)\n",
        "# 8x8x16\n",
        "encoded = layers.Conv2D(8 , (3 , 3) , padding = 'same' , activation = 'relu')(encoded) \n",
        "encoded = layers.MaxPool2D()(encoded)\n",
        "# 4x4x8\n",
        "encoder = tf.keras.Model(encoder_inputs , encoded)"
      ],
      "metadata": {
        "id": "P9DL_e06hb5B"
      },
      "execution_count": null,
      "outputs": []
    },
    {
      "cell_type": "code",
      "source": [
        "#decoder\n",
        "decoder_inputs = tf.keras.Input(shape = (4 , 4 , 8))\n",
        "\n",
        "decoded = layers.Conv2D(16 , (3 , 3) , padding = 'same' , activation = 'relu')(decoder_inputs) \n",
        "decoded = layers.UpSampling2D( (2 , 2) )(decoded)\n",
        "# 8x8x16\n",
        "decoded = layers.Conv2D(16 , (3 , 3) , padding = 'same' , activation = 'relu')(decoded) \n",
        "decoded = layers.UpSampling2D( (2 , 2) )(decoded)\n",
        "# 16x16x16\n",
        "decoded = layers.Conv2D(16 , (3 , 3) , padding = 'same' , activation = 'relu')(decoded) \n",
        "decoded = layers.UpSampling2D( (2 , 2) )(decoded)\n",
        "# 32x32x16\n",
        "decoded = layers.Conv2D(1 , (3 , 3) , padding = 'same' , activation = 'sigmoid')(decoded)\n",
        "\n",
        "decoder = tf.keras.Model(decoder_inputs , decoded)"
      ],
      "metadata": {
        "id": "GqQeDxQkiv_o"
      },
      "execution_count": null,
      "outputs": []
    },
    {
      "cell_type": "code",
      "source": [
        "inputs = tf.keras.Input(shape = (32 , 32 , 1))\n",
        "outputs = decoder(encoder(inputs))\n",
        "\n",
        "autoencoder = tf.keras.Model(inputs , outputs)\n",
        "autoencoder.compile(loss = 'binary_crossentropy' , optimizer  = 'adam')"
      ],
      "metadata": {
        "id": "Wd9S5kpDkW68"
      },
      "execution_count": null,
      "outputs": []
    },
    {
      "cell_type": "code",
      "source": [
        "autoencoder.fit(xtrain , xtrain , epochs = 50)"
      ],
      "metadata": {
        "colab": {
          "base_uri": "https://localhost:8080/"
        },
        "id": "VbxC1FU2kqEK",
        "outputId": "a303f24a-72dc-4642-f971-a563ca7bb524"
      },
      "execution_count": null,
      "outputs": [
        {
          "output_type": "stream",
          "name": "stdout",
          "text": [
            "Epoch 1/50\n",
            "1875/1875 [==============================] - 18s 5ms/step - loss: 0.1449\n",
            "Epoch 2/50\n",
            "1875/1875 [==============================] - 7s 4ms/step - loss: 0.1197\n",
            "Epoch 3/50\n",
            "1875/1875 [==============================] - 8s 4ms/step - loss: 0.1158\n",
            "Epoch 4/50\n",
            "1875/1875 [==============================] - 8s 4ms/step - loss: 0.1135\n",
            "Epoch 5/50\n",
            "1875/1875 [==============================] - 8s 4ms/step - loss: 0.1122\n",
            "Epoch 6/50\n",
            "1875/1875 [==============================] - 7s 4ms/step - loss: 0.1113\n",
            "Epoch 7/50\n",
            "1875/1875 [==============================] - 8s 4ms/step - loss: 0.1106\n",
            "Epoch 8/50\n",
            "1875/1875 [==============================] - 8s 4ms/step - loss: 0.1100\n",
            "Epoch 9/50\n",
            "1875/1875 [==============================] - 8s 4ms/step - loss: 0.1094\n",
            "Epoch 10/50\n",
            "1875/1875 [==============================] - 11s 6ms/step - loss: 0.1090\n",
            "Epoch 11/50\n",
            "1875/1875 [==============================] - 8s 4ms/step - loss: 0.1087\n",
            "Epoch 12/50\n",
            "1875/1875 [==============================] - 8s 4ms/step - loss: 0.1084\n",
            "Epoch 13/50\n",
            "1875/1875 [==============================] - 8s 4ms/step - loss: 0.1081\n",
            "Epoch 14/50\n",
            "1875/1875 [==============================] - 8s 4ms/step - loss: 0.1079\n",
            "Epoch 15/50\n",
            "1875/1875 [==============================] - 8s 4ms/step - loss: 0.1077\n",
            "Epoch 16/50\n",
            "1875/1875 [==============================] - 8s 4ms/step - loss: 0.1075\n",
            "Epoch 17/50\n",
            "1875/1875 [==============================] - 8s 4ms/step - loss: 0.1073\n",
            "Epoch 18/50\n",
            "1875/1875 [==============================] - 7s 4ms/step - loss: 0.1072\n",
            "Epoch 19/50\n",
            "1875/1875 [==============================] - 7s 4ms/step - loss: 0.1070\n",
            "Epoch 20/50\n",
            "1875/1875 [==============================] - 7s 4ms/step - loss: 0.1069\n",
            "Epoch 21/50\n",
            "1875/1875 [==============================] - 8s 4ms/step - loss: 0.1068\n",
            "Epoch 22/50\n",
            "1875/1875 [==============================] - 9s 5ms/step - loss: 0.1067\n",
            "Epoch 23/50\n",
            "1875/1875 [==============================] - 10s 5ms/step - loss: 0.1066\n",
            "Epoch 24/50\n",
            "1875/1875 [==============================] - 9s 5ms/step - loss: 0.1065\n",
            "Epoch 25/50\n",
            "1875/1875 [==============================] - 8s 4ms/step - loss: 0.1064\n",
            "Epoch 26/50\n",
            "1875/1875 [==============================] - 7s 4ms/step - loss: 0.1063\n",
            "Epoch 27/50\n",
            "1875/1875 [==============================] - 7s 4ms/step - loss: 0.1062\n",
            "Epoch 28/50\n",
            "1875/1875 [==============================] - 7s 4ms/step - loss: 0.1062\n",
            "Epoch 29/50\n",
            "1875/1875 [==============================] - 7s 4ms/step - loss: 0.1061\n",
            "Epoch 30/50\n",
            "1875/1875 [==============================] - 7s 4ms/step - loss: 0.1060\n",
            "Epoch 31/50\n",
            "1875/1875 [==============================] - 7s 4ms/step - loss: 0.1060\n",
            "Epoch 32/50\n",
            "1875/1875 [==============================] - 7s 4ms/step - loss: 0.1059\n",
            "Epoch 33/50\n",
            "1875/1875 [==============================] - 7s 4ms/step - loss: 0.1059\n",
            "Epoch 34/50\n",
            "1875/1875 [==============================] - 8s 4ms/step - loss: 0.1058\n",
            "Epoch 35/50\n",
            "1875/1875 [==============================] - 7s 4ms/step - loss: 0.1057\n",
            "Epoch 36/50\n",
            "1875/1875 [==============================] - 8s 4ms/step - loss: 0.1057\n",
            "Epoch 37/50\n",
            "1875/1875 [==============================] - 7s 4ms/step - loss: 0.1056\n",
            "Epoch 38/50\n",
            "1875/1875 [==============================] - 7s 4ms/step - loss: 0.1056\n",
            "Epoch 39/50\n",
            "1875/1875 [==============================] - 7s 4ms/step - loss: 0.1056\n",
            "Epoch 40/50\n",
            "1875/1875 [==============================] - 7s 4ms/step - loss: 0.1055\n",
            "Epoch 41/50\n",
            "1875/1875 [==============================] - 7s 4ms/step - loss: 0.1055\n",
            "Epoch 42/50\n",
            "1875/1875 [==============================] - 7s 4ms/step - loss: 0.1054\n",
            "Epoch 43/50\n",
            "1875/1875 [==============================] - 8s 4ms/step - loss: 0.1054\n",
            "Epoch 44/50\n",
            "1875/1875 [==============================] - 7s 4ms/step - loss: 0.1054\n",
            "Epoch 45/50\n",
            "1875/1875 [==============================] - 7s 4ms/step - loss: 0.1053\n",
            "Epoch 46/50\n",
            "1875/1875 [==============================] - 7s 4ms/step - loss: 0.1053\n",
            "Epoch 47/50\n",
            "1875/1875 [==============================] - 8s 4ms/step - loss: 0.1053\n",
            "Epoch 48/50\n",
            "1875/1875 [==============================] - 7s 4ms/step - loss: 0.1053\n",
            "Epoch 49/50\n",
            "1875/1875 [==============================] - 8s 4ms/step - loss: 0.1052\n",
            "Epoch 50/50\n",
            "1875/1875 [==============================] - 7s 4ms/step - loss: 0.1052\n"
          ]
        },
        {
          "output_type": "execute_result",
          "data": {
            "text/plain": [
              "<keras.callbacks.History at 0x7f3cec7e5400>"
            ]
          },
          "metadata": {},
          "execution_count": 12
        }
      ]
    },
    {
      "cell_type": "code",
      "source": [
        "z = autoencoder.predict(xtrain)"
      ],
      "metadata": {
        "colab": {
          "base_uri": "https://localhost:8080/"
        },
        "id": "741L-tbflAmq",
        "outputId": "4c54e07c-bdf8-46df-ba88-ef24c9fd0057"
      },
      "execution_count": null,
      "outputs": [
        {
          "output_type": "stream",
          "name": "stdout",
          "text": [
            "1875/1875 [==============================] - 4s 2ms/step\n"
          ]
        }
      ]
    },
    {
      "cell_type": "code",
      "source": [
        "z.shape"
      ],
      "metadata": {
        "colab": {
          "base_uri": "https://localhost:8080/"
        },
        "id": "pI0p4bFZnjQj",
        "outputId": "d56c56b1-bea3-4d86-ed7b-5253b2419d21"
      },
      "execution_count": null,
      "outputs": [
        {
          "output_type": "execute_result",
          "data": {
            "text/plain": [
              "(60000, 32, 32, 1)"
            ]
          },
          "metadata": {},
          "execution_count": 14
        }
      ]
    },
    {
      "cell_type": "code",
      "source": [
        "fig = plt.figure(figsize = (6 , 6))\n",
        "\n",
        "for i in range (9) :\n",
        "    fig.add_subplot(3 , 3 , i + 1)\n",
        "    plt.imshow(np.reshape(z[i] , (32 , 32)))\n",
        "    plt.axis('off')"
      ],
      "metadata": {
        "colab": {
          "base_uri": "https://localhost:8080/",
          "height": 357
        },
        "id": "EJO6hPWrlG7P",
        "outputId": "907486f9-9970-42c6-9e56-e714ad6ab3ee"
      },
      "execution_count": null,
      "outputs": [
        {
          "output_type": "display_data",
          "data": {
            "text/plain": [
              "<Figure size 432x432 with 9 Axes>"
            ],
            "image/png": "[encoded data removed]"
          },
          "metadata": {
            "needs_background": "light"
          }
        }
      ]
    },
    {
      "cell_type": "code",
      "source": [
        "z = encoder(xtrain)"
      ],
      "metadata": {
        "id": "hC-RgFJp5VxS"
      },
      "execution_count": null,
      "outputs": []
    },
    {
      "cell_type": "code",
      "source": [
        "z.shape"
      ],
      "metadata": {
        "colab": {
          "base_uri": "https://localhost:8080/"
        },
        "id": "FanK_olz5kJY",
        "outputId": "6b2c3897-9aa0-42ef-f20b-0140bd62694e"
      },
      "execution_count": null,
      "outputs": [
        {
          "output_type": "execute_result",
          "data": {
            "text/plain": [
              "TensorShape([60000, 4, 4, 8])"
            ]
          },
          "metadata": {},
          "execution_count": 17
        }
      ]
    },
    {
      "cell_type": "code",
      "source": [
        "z = np.reshape(z , (60000 , 16 , 8))\n",
        "\n",
        "fig = plt.figure(figsize = (16 , 16))\n",
        "\n",
        "for i in range (9) :\n",
        "    fig.add_subplot(1 , 9 , i + 1)\n",
        "    plt.imshow(z[i] , cmap = 'gray')\n",
        "    plt.axis('off')"
      ],
      "metadata": {
        "colab": {
          "base_uri": "https://localhost:8080/",
          "height": 199
        },
        "id": "O1tLxVSV6NKP",
        "outputId": "4e4b8ab0-1ace-464f-e5a2-740f756089ee"
      },
      "execution_count": null,
      "outputs": [
        {
          "output_type": "display_data",
          "data": {
            "text/plain": [
              "<Figure size 1152x1152 with 9 Axes>"
            ],
            "image/png": "[encoded data removed]"
          },
          "metadata": {
            "needs_background": "light"
          }
        }
      ]
    },
    {
      "cell_type": "markdown",
      "source": [
        "# Denoising Autoencoder"
      ],
      "metadata": {
        "id": "ZPhG7ClkbVce"
      }
    },
    {
      "cell_type": "code",
      "source": [
        "xtrain_noisy = xtrain + np.reshape(np.random.uniform(0 , 0.1,  (60000* 32 *32)) ,(60000 , 32 , 32 , 1))"
      ],
      "metadata": {
        "id": "DtvuQQbGbPRk"
      },
      "execution_count": null,
      "outputs": []
    },
    {
      "cell_type": "code",
      "source": [
        "z  = autoencoder.predict(xtrain_noisy)"
      ],
      "metadata": {
        "colab": {
          "base_uri": "https://localhost:8080/"
        },
        "id": "PvyryL0sAZkB",
        "outputId": "50ae13c1-229d-4548-bb3c-a618a5df4527"
      },
      "execution_count": null,
      "outputs": [
        {
          "output_type": "stream",
          "name": "stdout",
          "text": [
            "1875/1875 [==============================] - 4s 2ms/step\n"
          ]
        }
      ]
    },
    {
      "cell_type": "code",
      "source": [
        "fig = plt.figure(figsize=(8 , 8))\n",
        "for i in range(9) : \n",
        "    fig.add_subplot(3 , 3 , i + 1) \n",
        "    plt.imshow(np.reshape(xtrain_noisy[i] , (32 , 32)) , cmap = 'gray' )\n",
        "    plt.axis('off')"
      ],
      "metadata": {
        "colab": {
          "base_uri": "https://localhost:8080/",
          "height": 466
        },
        "id": "iioUJoao8kGP",
        "outputId": "0dafdf73-a8f4-4329-93f2-b0ca9066b99d"
      },
      "execution_count": null,
      "outputs": [
        {
          "output_type": "display_data",
          "data": {
            "text/plain": [
              "<Figure size 576x576 with 9 Axes>"
            ],
            "image/png": "[encoded data removed]"
          },
          "metadata": {
            "needs_background": "light"
          }
        }
      ]
    },
    {
      "cell_type": "code",
      "source": [
        "fig = plt.figure(figsize=(8 , 8))\n",
        "for i in range(9) : \n",
        "    fig.add_subplot(3 , 3 , i + 1) \n",
        "    plt.imshow(np.reshape(z[i] , (32 , 32)) , cmap = 'gray' )\n",
        "    plt.axis('off')"
      ],
      "metadata": {
        "colab": {
          "base_uri": "https://localhost:8080/",
          "height": 466
        },
        "id": "hfx5wCCnCkYy",
        "outputId": "0b524c1d-2aa6-4d23-af11-df2632cf8f6e"
      },
      "execution_count": null,
      "outputs": [
        {
          "output_type": "display_data",
          "data": {
            "text/plain": [
              "<Figure size 576x576 with 9 Axes>"
            ],
            "image/png": "[encoded data removed]"
          },
          "metadata": {
            "needs_background": "light"
          }
        }
      ]
    },
    {
      "cell_type": "markdown",
      "source": [
        "# Segnet"
      ],
      "metadata": {
        "id": "erdH_o4d72Qi"
      }
    },
    {
      "cell_type": "code",
      "source": [
        "import numpy as np\n",
        "import matplotlib.pyplot as plt \n",
        "import tensorflow as tf \n",
        "import tensorflow.keras.layers  as layers\n",
        "import os"
      ],
      "metadata": {
        "id": "uvLm50U875ZJ"
      },
      "execution_count": 107,
      "outputs": []
    },
    {
      "cell_type": "code",
      "source": [
        "path_train = \"/content/drive/MyDrive/Datasets/Lung Segmentation Dataset/train\"\n",
        "xtrain = []\n",
        "ytrain = []\n",
        "for file_name in os.listdir(path_train) : \n",
        "        if(file_name.endswith('.jpg')) :\n",
        "            xtrain.append(plt.imread(os.path.join(path_train , file_name )))\n",
        "            ytrain.append(plt.imread(os.path.join(path_train , file_name + '-msk.png')))"
      ],
      "metadata": {
        "id": "GXnlwDjo8LwD"
      },
      "execution_count": 108,
      "outputs": []
    },
    {
      "cell_type": "code",
      "source": [
        "xtrain = np.array(xtrain)[: , : , : , None] / 255.0\n",
        "ytrain = np.array(ytrain)[: , : , : , None]"
      ],
      "metadata": {
        "id": "pCHhQGcE8bjG"
      },
      "execution_count": 109,
      "outputs": []
    },
    {
      "cell_type": "code",
      "source": [
        "fig = plt.figure(figsize = (6 , 6))\n",
        "\n",
        "for i in range(3) : \n",
        "    fig.add_subplot(1 , 3 , i + 1) \n",
        "    plt.imshow(np.reshape(xtrain[i] , (xtrain.shape[1] , xtrain.shape[2])) , cmap = 'gray' )\n",
        "    plt.axis('off')"
      ],
      "metadata": {
        "colab": {
          "base_uri": "https://localhost:8080/",
          "height": 129
        },
        "id": "xBZDcI0g9ViC",
        "outputId": "359b0981-dde6-4470-d1ae-400744361d18"
      },
      "execution_count": 110,
      "outputs": [
        {
          "output_type": "display_data",
          "data": {
            "text/plain": [
              "<Figure size 432x432 with 3 Axes>"
            ],
            "image/png": "[encoded data removed]"
          },
          "metadata": {
            "needs_background": "light"
          }
        }
      ]
    },
    {
      "cell_type": "code",
      "source": [
        "xtrain.shape"
      ],
      "metadata": {
        "colab": {
          "base_uri": "https://localhost:8080/"
        },
        "id": "D4v9CS1D-bQJ",
        "outputId": "871d778d-e798-4fb5-f5a4-3223e0bb8278"
      },
      "execution_count": 111,
      "outputs": [
        {
          "output_type": "execute_result",
          "data": {
            "text/plain": [
              "(6, 256, 256, 1)"
            ]
          },
          "metadata": {},
          "execution_count": 111
        }
      ]
    },
    {
      "cell_type": "code",
      "source": [
        "autoencoder = [\n",
        "\n",
        "    layers.Conv2D(64 , (3 , 3) , padding = 'same' , activation = 'relu' , input_shape = (256 , 256 , 1)) ,\n",
        "    layers.BatchNormalization(),\n",
        "    layers.MaxPool2D(),\n",
        "    layers.Conv2D(128 , (3 , 3) , padding = 'same' , activation = 'relu') ,\n",
        "    layers.BatchNormalization(),\n",
        "    layers.MaxPool2D(),\n",
        "    layers.Conv2D(256 , (3 , 3) , padding = 'same' , activation = 'relu') ,\n",
        "    layers.BatchNormalization(),\n",
        "    layers.MaxPool2D(),\n",
        "    layers.Conv2D(512 , (3 , 3) , padding = 'same' , activation = 'relu') ,\n",
        "    layers.BatchNormalization(),\n",
        "    layers.MaxPool2D(),\n",
        "\n",
        "    layers.Conv2D(512 , (3 , 3) , padding = 'same' , activation = 'relu') ,\n",
        "    layers.BatchNormalization(),\n",
        "    layers.UpSampling2D(),\n",
        "    layers.Conv2D(256 , (3 , 3) , padding = 'same' , activation = 'relu') ,\n",
        "    layers.BatchNormalization(),\n",
        "    layers.UpSampling2D(),\n",
        "    layers.Conv2D(128 , (3 , 3) , padding = 'same' , activation = 'relu') ,\n",
        "    layers.BatchNormalization(),\n",
        "    layers.UpSampling2D(),\n",
        "    layers.Conv2D(64, (3 , 3) , padding = 'same' , activation = 'relu') ,\n",
        "    layers.BatchNormalization(),\n",
        "    layers.UpSampling2D(),\n",
        "\n",
        "    layers.Conv2D(1 , (1 , 1) , padding = 'same' , activation = 'relu') ,\n",
        "    layers.BatchNormalization(),\n",
        "\n",
        "]\n",
        "\n",
        "segnet = tf.keras.Sequential(autoencoder , )\n",
        "segnet.compile(loss = 'mse' , optimizer = 'adam')"
      ],
      "metadata": {
        "id": "ItUzSdHe-_Su"
      },
      "execution_count": 112,
      "outputs": []
    },
    {
      "cell_type": "code",
      "source": [
        "segnet.fit(xtrain , ytrain , epochs = 500)"
      ],
      "metadata": {
        "colab": {
          "base_uri": "https://localhost:8080/"
        },
        "id": "GuEWGSD2ArF0",
        "outputId": "45a3b792-d573-473d-eae7-7c902b38c49b"
      },
      "execution_count": 128,
      "outputs": [
        {
          "output_type": "stream",
          "name": "stdout",
          "text": [
            "Epoch 1/500\n",
            "1/1 [==============================] - 0s 119ms/step - loss: 0.0037\n",
            "Epoch 2/500\n",
            "1/1 [==============================] - 0s 104ms/step - loss: 0.0037\n",
            "Epoch 3/500\n",
            "1/1 [==============================] - 0s 100ms/step - loss: 0.0037\n",
            "Epoch 4/500\n",
            "1/1 [==============================] - 0s 83ms/step - loss: 0.0037\n",
            "Epoch 5/500\n",
            "1/1 [==============================] - 0s 82ms/step - loss: 0.0037\n",
            "Epoch 6/500\n",
            "1/1 [==============================] - 0s 80ms/step - loss: 0.0037\n",
            "Epoch 7/500\n",
            "1/1 [==============================] - 0s 79ms/step - loss: 0.0037\n",
            "Epoch 8/500\n",
            "1/1 [==============================] - 0s 84ms/step - loss: 0.0037\n",
            "Epoch 9/500\n",
            "1/1 [==============================] - 0s 87ms/step - loss: 0.0037\n",
            "Epoch 10/500\n",
            "1/1 [==============================] - 0s 83ms/step - loss: 0.0037\n",
            "Epoch 11/500\n",
            "1/1 [==============================] - 0s 80ms/step - loss: 0.0037\n",
            "Epoch 12/500\n",
            "1/1 [==============================] - 0s 81ms/step - loss: 0.0037\n",
            "Epoch 13/500\n",
            "1/1 [==============================] - 0s 80ms/step - loss: 0.0037\n",
            "Epoch 14/500\n",
            "1/1 [==============================] - 0s 83ms/step - loss: 0.0037\n",
            "Epoch 15/500\n",
            "1/1 [==============================] - 0s 83ms/step - loss: 0.0037\n",
            "Epoch 16/500\n",
            "1/1 [==============================] - 0s 81ms/step - loss: 0.0037\n",
            "Epoch 17/500\n",
            "1/1 [==============================] - 0s 84ms/step - loss: 0.0037\n",
            "Epoch 18/500\n",
            "1/1 [==============================] - 0s 81ms/step - loss: 0.0037\n",
            "Epoch 19/500\n",
            "1/1 [==============================] - 0s 81ms/step - loss: 0.0037\n",
            "Epoch 20/500\n",
            "1/1 [==============================] - 0s 80ms/step - loss: 0.0037\n",
            "Epoch 21/500\n",
            "1/1 [==============================] - 0s 81ms/step - loss: 0.0037\n",
            "Epoch 22/500\n",
            "1/1 [==============================] - 0s 80ms/step - loss: 0.0037\n",
            "Epoch 23/500\n",
            "1/1 [==============================] - 0s 83ms/step - loss: 0.0037\n",
            "Epoch 24/500\n",
            "1/1 [==============================] - 0s 81ms/step - loss: 0.0037\n",
            "Epoch 25/500\n",
            "1/1 [==============================] - 0s 80ms/step - loss: 0.0037\n",
            "Epoch 26/500\n",
            "1/1 [==============================] - 0s 80ms/step - loss: 0.0037\n",
            "Epoch 27/500\n",
            "1/1 [==============================] - 0s 81ms/step - loss: 0.0037\n",
            "Epoch 28/500\n",
            "1/1 [==============================] - 0s 82ms/step - loss: 0.0037\n",
            "Epoch 29/500\n",
            "1/1 [==============================] - 0s 81ms/step - loss: 0.0037\n",
            "Epoch 30/500\n",
            "1/1 [==============================] - 0s 82ms/step - loss: 0.0037\n",
            "Epoch 31/500\n",
            "1/1 [==============================] - 0s 81ms/step - loss: 0.0037\n",
            "Epoch 32/500\n",
            "1/1 [==============================] - 0s 82ms/step - loss: 0.0037\n",
            "Epoch 33/500\n",
            "1/1 [==============================] - 0s 82ms/step - loss: 0.0037\n",
            "Epoch 34/500\n",
            "1/1 [==============================] - 0s 82ms/step - loss: 0.0037\n",
            "Epoch 35/500\n",
            "1/1 [==============================] - 0s 81ms/step - loss: 0.0037\n",
            "Epoch 36/500\n",
            "1/1 [==============================] - 0s 81ms/step - loss: 0.0037\n",
            "Epoch 37/500\n",
            "1/1 [==============================] - 0s 82ms/step - loss: 0.0037\n",
            "Epoch 38/500\n",
            "1/1 [==============================] - 0s 82ms/step - loss: 0.0037\n",
            "Epoch 39/500\n",
            "1/1 [==============================] - 0s 80ms/step - loss: 0.0037\n",
            "Epoch 40/500\n",
            "1/1 [==============================] - 0s 82ms/step - loss: 0.0037\n",
            "Epoch 41/500\n",
            "1/1 [==============================] - 0s 82ms/step - loss: 0.0037\n",
            "Epoch 42/500\n",
            "1/1 [==============================] - 0s 82ms/step - loss: 0.0037\n",
            "Epoch 43/500\n",
            "1/1 [==============================] - 0s 81ms/step - loss: 0.0037\n",
            "Epoch 44/500\n",
            "1/1 [==============================] - 0s 82ms/step - loss: 0.0037\n",
            "Epoch 45/500\n",
            "1/1 [==============================] - 0s 83ms/step - loss: 0.0037\n",
            "Epoch 46/500\n",
            "1/1 [==============================] - 0s 82ms/step - loss: 0.0037\n",
            "Epoch 47/500\n",
            "1/1 [==============================] - 0s 81ms/step - loss: 0.0037\n",
            "Epoch 48/500\n",
            "1/1 [==============================] - 0s 83ms/step - loss: 0.0037\n",
            "Epoch 49/500\n",
            "1/1 [==============================] - 0s 82ms/step - loss: 0.0037\n",
            "Epoch 50/500\n",
            "1/1 [==============================] - 0s 82ms/step - loss: 0.0037\n",
            "Epoch 51/500\n",
            "1/1 [==============================] - 0s 81ms/step - loss: 0.0037\n",
            "Epoch 52/500\n",
            "1/1 [==============================] - 0s 80ms/step - loss: 0.0037\n",
            "Epoch 53/500\n",
            "1/1 [==============================] - 0s 80ms/step - loss: 0.0037\n",
            "Epoch 54/500\n",
            "1/1 [==============================] - 0s 84ms/step - loss: 0.0037\n",
            "Epoch 55/500\n",
            "1/1 [==============================] - 0s 80ms/step - loss: 0.0037\n",
            "Epoch 56/500\n",
            "1/1 [==============================] - 0s 82ms/step - loss: 0.0037\n",
            "Epoch 57/500\n",
            "1/1 [==============================] - 0s 82ms/step - loss: 0.0037\n",
            "Epoch 58/500\n",
            "1/1 [==============================] - 0s 83ms/step - loss: 0.0037\n",
            "Epoch 59/500\n",
            "1/1 [==============================] - 0s 82ms/step - loss: 0.0037\n",
            "Epoch 60/500\n",
            "1/1 [==============================] - 0s 81ms/step - loss: 0.0037\n",
            "Epoch 61/500\n",
            "1/1 [==============================] - 0s 82ms/step - loss: 0.0037\n",
            "Epoch 62/500\n",
            "1/1 [==============================] - 0s 81ms/step - loss: 0.0037\n",
            "Epoch 63/500\n",
            "1/1 [==============================] - 0s 80ms/step - loss: 0.0037\n",
            "Epoch 64/500\n",
            "1/1 [==============================] - 0s 82ms/step - loss: 0.0037\n",
            "Epoch 65/500\n",
            "1/1 [==============================] - 0s 82ms/step - loss: 0.0037\n",
            "Epoch 66/500\n",
            "1/1 [==============================] - 0s 83ms/step - loss: 0.0037\n",
            "Epoch 67/500\n",
            "1/1 [==============================] - 0s 85ms/step - loss: 0.0037\n",
            "Epoch 68/500\n",
            "1/1 [==============================] - 0s 81ms/step - loss: 0.0037\n",
            "Epoch 69/500\n",
            "1/1 [==============================] - 0s 80ms/step - loss: 0.0037\n",
            "Epoch 70/500\n",
            "1/1 [==============================] - 0s 81ms/step - loss: 0.0037\n",
            "Epoch 71/500\n",
            "1/1 [==============================] - 0s 84ms/step - loss: 0.0037\n",
            "Epoch 72/500\n",
            "1/1 [==============================] - 0s 83ms/step - loss: 0.0037\n",
            "Epoch 73/500\n",
            "1/1 [==============================] - 0s 80ms/step - loss: 0.0037\n",
            "Epoch 74/500\n",
            "1/1 [==============================] - 0s 83ms/step - loss: 0.0037\n",
            "Epoch 75/500\n",
            "1/1 [==============================] - 0s 83ms/step - loss: 0.0037\n",
            "Epoch 76/500\n",
            "1/1 [==============================] - 0s 80ms/step - loss: 0.0037\n",
            "Epoch 77/500\n",
            "1/1 [==============================] - 0s 82ms/step - loss: 0.0037\n",
            "Epoch 78/500\n",
            "1/1 [==============================] - 0s 82ms/step - loss: 0.0037\n",
            "Epoch 79/500\n",
            "1/1 [==============================] - 0s 82ms/step - loss: 0.0037\n",
            "Epoch 80/500\n",
            "1/1 [==============================] - 0s 82ms/step - loss: 0.0037\n",
            "Epoch 81/500\n",
            "1/1 [==============================] - 0s 82ms/step - loss: 0.0037\n",
            "Epoch 82/500\n",
            "1/1 [==============================] - 0s 80ms/step - loss: 0.0037\n",
            "Epoch 83/500\n",
            "1/1 [==============================] - 0s 80ms/step - loss: 0.0037\n",
            "Epoch 84/500\n",
            "1/1 [==============================] - 0s 84ms/step - loss: 0.0037\n",
            "Epoch 85/500\n",
            "1/1 [==============================] - 0s 81ms/step - loss: 0.0037\n",
            "Epoch 86/500\n",
            "1/1 [==============================] - 0s 83ms/step - loss: 0.0037\n",
            "Epoch 87/500\n",
            "1/1 [==============================] - 0s 82ms/step - loss: 0.0037\n",
            "Epoch 88/500\n",
            "1/1 [==============================] - 0s 81ms/step - loss: 0.0037\n",
            "Epoch 89/500\n",
            "1/1 [==============================] - 0s 82ms/step - loss: 0.0037\n",
            "Epoch 90/500\n",
            "1/1 [==============================] - 0s 81ms/step - loss: 0.0037\n",
            "Epoch 91/500\n",
            "1/1 [==============================] - 0s 81ms/step - loss: 0.0037\n",
            "Epoch 92/500\n",
            "1/1 [==============================] - 0s 81ms/step - loss: 0.0037\n",
            "Epoch 93/500\n",
            "1/1 [==============================] - 0s 84ms/step - loss: 0.0037\n",
            "Epoch 94/500\n",
            "1/1 [==============================] - 0s 82ms/step - loss: 0.0037\n",
            "Epoch 95/500\n",
            "1/1 [==============================] - 0s 80ms/step - loss: 0.0037\n",
            "Epoch 96/500\n",
            "1/1 [==============================] - 0s 84ms/step - loss: 0.0038\n",
            "Epoch 97/500\n",
            "1/1 [==============================] - 0s 82ms/step - loss: 0.0038\n",
            "Epoch 98/500\n",
            "1/1 [==============================] - 0s 83ms/step - loss: 0.0039\n",
            "Epoch 99/500\n",
            "1/1 [==============================] - 0s 83ms/step - loss: 0.0042\n",
            "Epoch 100/500\n",
            "1/1 [==============================] - 0s 83ms/step - loss: 0.0043\n",
            "Epoch 101/500\n",
            "1/1 [==============================] - 0s 82ms/step - loss: 0.0041\n",
            "Epoch 102/500\n",
            "1/1 [==============================] - 0s 82ms/step - loss: 0.0038\n",
            "Epoch 103/500\n",
            "1/1 [==============================] - 0s 81ms/step - loss: 0.0038\n",
            "Epoch 104/500\n",
            "1/1 [==============================] - 0s 85ms/step - loss: 0.0040\n",
            "Epoch 105/500\n",
            "1/1 [==============================] - 0s 84ms/step - loss: 0.0039\n",
            "Epoch 106/500\n",
            "1/1 [==============================] - 0s 82ms/step - loss: 0.0037\n",
            "Epoch 107/500\n",
            "1/1 [==============================] - 0s 81ms/step - loss: 0.0038\n",
            "Epoch 108/500\n",
            "1/1 [==============================] - 0s 81ms/step - loss: 0.0038\n",
            "Epoch 109/500\n",
            "1/1 [==============================] - 0s 84ms/step - loss: 0.0037\n",
            "Epoch 110/500\n",
            "1/1 [==============================] - 0s 79ms/step - loss: 0.0038\n",
            "Epoch 111/500\n",
            "1/1 [==============================] - 0s 83ms/step - loss: 0.0038\n",
            "Epoch 112/500\n",
            "1/1 [==============================] - 0s 83ms/step - loss: 0.0037\n",
            "Epoch 113/500\n",
            "1/1 [==============================] - 0s 83ms/step - loss: 0.0037\n",
            "Epoch 114/500\n",
            "1/1 [==============================] - 0s 82ms/step - loss: 0.0037\n",
            "Epoch 115/500\n",
            "1/1 [==============================] - 0s 83ms/step - loss: 0.0037\n",
            "Epoch 116/500\n",
            "1/1 [==============================] - 0s 81ms/step - loss: 0.0037\n",
            "Epoch 117/500\n",
            "1/1 [==============================] - 0s 80ms/step - loss: 0.0037\n",
            "Epoch 118/500\n",
            "1/1 [==============================] - 0s 86ms/step - loss: 0.0037\n",
            "Epoch 119/500\n",
            "1/1 [==============================] - 0s 84ms/step - loss: 0.0037\n",
            "Epoch 120/500\n",
            "1/1 [==============================] - 0s 81ms/step - loss: 0.0037\n",
            "Epoch 121/500\n",
            "1/1 [==============================] - 0s 81ms/step - loss: 0.0037\n",
            "Epoch 122/500\n",
            "1/1 [==============================] - 0s 82ms/step - loss: 0.0037\n",
            "Epoch 123/500\n",
            "1/1 [==============================] - 0s 83ms/step - loss: 0.0037\n",
            "Epoch 124/500\n",
            "1/1 [==============================] - 0s 82ms/step - loss: 0.0037\n",
            "Epoch 125/500\n",
            "1/1 [==============================] - 0s 83ms/step - loss: 0.0037\n",
            "Epoch 126/500\n",
            "1/1 [==============================] - 0s 81ms/step - loss: 0.0037\n",
            "Epoch 127/500\n",
            "1/1 [==============================] - 0s 83ms/step - loss: 0.0037\n",
            "Epoch 128/500\n",
            "1/1 [==============================] - 0s 84ms/step - loss: 0.0037\n",
            "Epoch 129/500\n",
            "1/1 [==============================] - 0s 84ms/step - loss: 0.0037\n",
            "Epoch 130/500\n",
            "1/1 [==============================] - 0s 83ms/step - loss: 0.0037\n",
            "Epoch 131/500\n",
            "1/1 [==============================] - 0s 82ms/step - loss: 0.0037\n",
            "Epoch 132/500\n",
            "1/1 [==============================] - 0s 80ms/step - loss: 0.0037\n",
            "Epoch 133/500\n",
            "1/1 [==============================] - 0s 84ms/step - loss: 0.0037\n",
            "Epoch 134/500\n",
            "1/1 [==============================] - 0s 84ms/step - loss: 0.0037\n",
            "Epoch 135/500\n",
            "1/1 [==============================] - 0s 83ms/step - loss: 0.0037\n",
            "Epoch 136/500\n",
            "1/1 [==============================] - 0s 83ms/step - loss: 0.0037\n",
            "Epoch 137/500\n",
            "1/1 [==============================] - 0s 81ms/step - loss: 0.0037\n",
            "Epoch 138/500\n",
            "1/1 [==============================] - 0s 83ms/step - loss: 0.0037\n",
            "Epoch 139/500\n",
            "1/1 [==============================] - 0s 82ms/step - loss: 0.0037\n",
            "Epoch 140/500\n",
            "1/1 [==============================] - 0s 81ms/step - loss: 0.0037\n",
            "Epoch 141/500\n",
            "1/1 [==============================] - 0s 82ms/step - loss: 0.0037\n",
            "Epoch 142/500\n",
            "1/1 [==============================] - 0s 83ms/step - loss: 0.0037\n",
            "Epoch 143/500\n",
            "1/1 [==============================] - 0s 81ms/step - loss: 0.0037\n",
            "Epoch 144/500\n",
            "1/1 [==============================] - 0s 81ms/step - loss: 0.0037\n",
            "Epoch 145/500\n",
            "1/1 [==============================] - 0s 82ms/step - loss: 0.0037\n",
            "Epoch 146/500\n",
            "1/1 [==============================] - 0s 82ms/step - loss: 0.0037\n",
            "Epoch 147/500\n",
            "1/1 [==============================] - 0s 81ms/step - loss: 0.0037\n",
            "Epoch 148/500\n",
            "1/1 [==============================] - 0s 85ms/step - loss: 0.0037\n",
            "Epoch 149/500\n",
            "1/1 [==============================] - 0s 84ms/step - loss: 0.0037\n",
            "Epoch 150/500\n",
            "1/1 [==============================] - 0s 86ms/step - loss: 0.0037\n",
            "Epoch 151/500\n",
            "1/1 [==============================] - 0s 82ms/step - loss: 0.0037\n",
            "Epoch 152/500\n",
            "1/1 [==============================] - 0s 83ms/step - loss: 0.0037\n",
            "Epoch 153/500\n",
            "1/1 [==============================] - 0s 84ms/step - loss: 0.0037\n",
            "Epoch 154/500\n",
            "1/1 [==============================] - 0s 84ms/step - loss: 0.0037\n",
            "Epoch 155/500\n",
            "1/1 [==============================] - 0s 81ms/step - loss: 0.0037\n",
            "Epoch 156/500\n",
            "1/1 [==============================] - 0s 80ms/step - loss: 0.0037\n",
            "Epoch 157/500\n",
            "1/1 [==============================] - 0s 85ms/step - loss: 0.0037\n",
            "Epoch 158/500\n",
            "1/1 [==============================] - 0s 79ms/step - loss: 0.0037\n",
            "Epoch 159/500\n",
            "1/1 [==============================] - 0s 86ms/step - loss: 0.0037\n",
            "Epoch 160/500\n",
            "1/1 [==============================] - 0s 85ms/step - loss: 0.0037\n",
            "Epoch 161/500\n",
            "1/1 [==============================] - 0s 82ms/step - loss: 0.0037\n",
            "Epoch 162/500\n",
            "1/1 [==============================] - 0s 83ms/step - loss: 0.0037\n",
            "Epoch 163/500\n",
            "1/1 [==============================] - 0s 83ms/step - loss: 0.0037\n",
            "Epoch 164/500\n",
            "1/1 [==============================] - 0s 81ms/step - loss: 0.0037\n",
            "Epoch 165/500\n",
            "1/1 [==============================] - 0s 81ms/step - loss: 0.0037\n",
            "Epoch 166/500\n",
            "1/1 [==============================] - 0s 81ms/step - loss: 0.0037\n",
            "Epoch 167/500\n",
            "1/1 [==============================] - 0s 81ms/step - loss: 0.0037\n",
            "Epoch 168/500\n",
            "1/1 [==============================] - 0s 81ms/step - loss: 0.0037\n",
            "Epoch 169/500\n",
            "1/1 [==============================] - 0s 81ms/step - loss: 0.0037\n",
            "Epoch 170/500\n",
            "1/1 [==============================] - 0s 83ms/step - loss: 0.0037\n",
            "Epoch 171/500\n",
            "1/1 [==============================] - 0s 82ms/step - loss: 0.0037\n",
            "Epoch 172/500\n",
            "1/1 [==============================] - 0s 82ms/step - loss: 0.0037\n",
            "Epoch 173/500\n",
            "1/1 [==============================] - 0s 81ms/step - loss: 0.0037\n",
            "Epoch 174/500\n",
            "1/1 [==============================] - 0s 82ms/step - loss: 0.0037\n",
            "Epoch 175/500\n",
            "1/1 [==============================] - 0s 83ms/step - loss: 0.0037\n",
            "Epoch 176/500\n",
            "1/1 [==============================] - 0s 83ms/step - loss: 0.0037\n",
            "Epoch 177/500\n",
            "1/1 [==============================] - 0s 86ms/step - loss: 0.0037\n",
            "Epoch 178/500\n",
            "1/1 [==============================] - 0s 81ms/step - loss: 0.0037\n",
            "Epoch 179/500\n",
            "1/1 [==============================] - 0s 82ms/step - loss: 0.0037\n",
            "Epoch 180/500\n",
            "1/1 [==============================] - 0s 81ms/step - loss: 0.0037\n",
            "Epoch 181/500\n",
            "1/1 [==============================] - 0s 79ms/step - loss: 0.0037\n",
            "Epoch 182/500\n",
            "1/1 [==============================] - 0s 81ms/step - loss: 0.0037\n",
            "Epoch 183/500\n",
            "1/1 [==============================] - 0s 81ms/step - loss: 0.0037\n",
            "Epoch 184/500\n",
            "1/1 [==============================] - 0s 81ms/step - loss: 0.0037\n",
            "Epoch 185/500\n",
            "1/1 [==============================] - 0s 83ms/step - loss: 0.0037\n",
            "Epoch 186/500\n",
            "1/1 [==============================] - 0s 84ms/step - loss: 0.0037\n",
            "Epoch 187/500\n",
            "1/1 [==============================] - 0s 82ms/step - loss: 0.0037\n",
            "Epoch 188/500\n",
            "1/1 [==============================] - 0s 83ms/step - loss: 0.0037\n",
            "Epoch 189/500\n",
            "1/1 [==============================] - 0s 84ms/step - loss: 0.0037\n",
            "Epoch 190/500\n",
            "1/1 [==============================] - 0s 82ms/step - loss: 0.0037\n",
            "Epoch 191/500\n",
            "1/1 [==============================] - 0s 82ms/step - loss: 0.0037\n",
            "Epoch 192/500\n",
            "1/1 [==============================] - 0s 81ms/step - loss: 0.0037\n",
            "Epoch 193/500\n",
            "1/1 [==============================] - 0s 80ms/step - loss: 0.0037\n",
            "Epoch 194/500\n",
            "1/1 [==============================] - 0s 83ms/step - loss: 0.0037\n",
            "Epoch 195/500\n",
            "1/1 [==============================] - 0s 81ms/step - loss: 0.0037\n",
            "Epoch 196/500\n",
            "1/1 [==============================] - 0s 81ms/step - loss: 0.0037\n",
            "Epoch 197/500\n",
            "1/1 [==============================] - 0s 81ms/step - loss: 0.0037\n",
            "Epoch 198/500\n",
            "1/1 [==============================] - 0s 80ms/step - loss: 0.0037\n",
            "Epoch 199/500\n",
            "1/1 [==============================] - 0s 81ms/step - loss: 0.0037\n",
            "Epoch 200/500\n",
            "1/1 [==============================] - 0s 80ms/step - loss: 0.0037\n",
            "Epoch 201/500\n",
            "1/1 [==============================] - 0s 82ms/step - loss: 0.0037\n",
            "Epoch 202/500\n",
            "1/1 [==============================] - 0s 82ms/step - loss: 0.0037\n",
            "Epoch 203/500\n",
            "1/1 [==============================] - 0s 84ms/step - loss: 0.0037\n",
            "Epoch 204/500\n",
            "1/1 [==============================] - 0s 81ms/step - loss: 0.0037\n",
            "Epoch 205/500\n",
            "1/1 [==============================] - 0s 81ms/step - loss: 0.0037\n",
            "Epoch 206/500\n",
            "1/1 [==============================] - 0s 84ms/step - loss: 0.0037\n",
            "Epoch 207/500\n",
            "1/1 [==============================] - 0s 81ms/step - loss: 0.0037\n",
            "Epoch 208/500\n",
            "1/1 [==============================] - 0s 81ms/step - loss: 0.0037\n",
            "Epoch 209/500\n",
            "1/1 [==============================] - 0s 83ms/step - loss: 0.0037\n",
            "Epoch 210/500\n",
            "1/1 [==============================] - 0s 80ms/step - loss: 0.0037\n",
            "Epoch 211/500\n",
            "1/1 [==============================] - 0s 82ms/step - loss: 0.0037\n",
            "Epoch 212/500\n",
            "1/1 [==============================] - 0s 82ms/step - loss: 0.0037\n",
            "Epoch 213/500\n",
            "1/1 [==============================] - 0s 82ms/step - loss: 0.0037\n",
            "Epoch 214/500\n",
            "1/1 [==============================] - 0s 82ms/step - loss: 0.0037\n",
            "Epoch 215/500\n",
            "1/1 [==============================] - 0s 79ms/step - loss: 0.0037\n",
            "Epoch 216/500\n",
            "1/1 [==============================] - 0s 81ms/step - loss: 0.0037\n",
            "Epoch 217/500\n",
            "1/1 [==============================] - 0s 81ms/step - loss: 0.0037\n",
            "Epoch 218/500\n",
            "1/1 [==============================] - 0s 82ms/step - loss: 0.0037\n",
            "Epoch 219/500\n",
            "1/1 [==============================] - 0s 83ms/step - loss: 0.0037\n",
            "Epoch 220/500\n",
            "1/1 [==============================] - 0s 81ms/step - loss: 0.0037\n",
            "Epoch 221/500\n",
            "1/1 [==============================] - 0s 82ms/step - loss: 0.0037\n",
            "Epoch 222/500\n",
            "1/1 [==============================] - 0s 80ms/step - loss: 0.0037\n",
            "Epoch 223/500\n",
            "1/1 [==============================] - 0s 82ms/step - loss: 0.0037\n",
            "Epoch 224/500\n",
            "1/1 [==============================] - 0s 81ms/step - loss: 0.0037\n",
            "Epoch 225/500\n",
            "1/1 [==============================] - 0s 82ms/step - loss: 0.0037\n",
            "Epoch 226/500\n",
            "1/1 [==============================] - 0s 83ms/step - loss: 0.0038\n",
            "Epoch 227/500\n",
            "1/1 [==============================] - 0s 83ms/step - loss: 0.0038\n",
            "Epoch 228/500\n",
            "1/1 [==============================] - 0s 84ms/step - loss: 0.0040\n",
            "Epoch 229/500\n",
            "1/1 [==============================] - 0s 81ms/step - loss: 0.0042\n",
            "Epoch 230/500\n",
            "1/1 [==============================] - 0s 83ms/step - loss: 0.0043\n",
            "Epoch 231/500\n",
            "1/1 [==============================] - 0s 81ms/step - loss: 0.0044\n",
            "Epoch 232/500\n",
            "1/1 [==============================] - 0s 81ms/step - loss: 0.0046\n",
            "Epoch 233/500\n",
            "1/1 [==============================] - 0s 83ms/step - loss: 0.0048\n",
            "Epoch 234/500\n",
            "1/1 [==============================] - 0s 79ms/step - loss: 0.0042\n",
            "Epoch 235/500\n",
            "1/1 [==============================] - 0s 81ms/step - loss: 0.0040\n",
            "Epoch 236/500\n",
            "1/1 [==============================] - 0s 81ms/step - loss: 0.0044\n",
            "Epoch 237/500\n",
            "1/1 [==============================] - 0s 83ms/step - loss: 0.0040\n",
            "Epoch 238/500\n",
            "1/1 [==============================] - 0s 83ms/step - loss: 0.0039\n",
            "Epoch 239/500\n",
            "1/1 [==============================] - 0s 82ms/step - loss: 0.0041\n",
            "Epoch 240/500\n",
            "1/1 [==============================] - 0s 83ms/step - loss: 0.0039\n",
            "Epoch 241/500\n",
            "1/1 [==============================] - 0s 82ms/step - loss: 0.0039\n",
            "Epoch 242/500\n",
            "1/1 [==============================] - 0s 80ms/step - loss: 0.0039\n",
            "Epoch 243/500\n",
            "1/1 [==============================] - 0s 83ms/step - loss: 0.0038\n",
            "Epoch 244/500\n",
            "1/1 [==============================] - 0s 86ms/step - loss: 0.0039\n",
            "Epoch 245/500\n",
            "1/1 [==============================] - 0s 85ms/step - loss: 0.0038\n",
            "Epoch 246/500\n",
            "1/1 [==============================] - 0s 82ms/step - loss: 0.0038\n",
            "Epoch 247/500\n",
            "1/1 [==============================] - 0s 81ms/step - loss: 0.0039\n",
            "Epoch 248/500\n",
            "1/1 [==============================] - 0s 82ms/step - loss: 0.0038\n",
            "Epoch 249/500\n",
            "1/1 [==============================] - 0s 84ms/step - loss: 0.0038\n",
            "Epoch 250/500\n",
            "1/1 [==============================] - 0s 79ms/step - loss: 0.0038\n",
            "Epoch 251/500\n",
            "1/1 [==============================] - 0s 83ms/step - loss: 0.0038\n",
            "Epoch 252/500\n",
            "1/1 [==============================] - 0s 83ms/step - loss: 0.0038\n",
            "Epoch 253/500\n",
            "1/1 [==============================] - 0s 81ms/step - loss: 0.0038\n",
            "Epoch 254/500\n",
            "1/1 [==============================] - 0s 82ms/step - loss: 0.0037\n",
            "Epoch 255/500\n",
            "1/1 [==============================] - 0s 85ms/step - loss: 0.0037\n",
            "Epoch 256/500\n",
            "1/1 [==============================] - 0s 84ms/step - loss: 0.0037\n",
            "Epoch 257/500\n",
            "1/1 [==============================] - 0s 83ms/step - loss: 0.0037\n",
            "Epoch 258/500\n",
            "1/1 [==============================] - 0s 81ms/step - loss: 0.0037\n",
            "Epoch 259/500\n",
            "1/1 [==============================] - 0s 82ms/step - loss: 0.0037\n",
            "Epoch 260/500\n",
            "1/1 [==============================] - 0s 81ms/step - loss: 0.0037\n",
            "Epoch 261/500\n",
            "1/1 [==============================] - 0s 82ms/step - loss: 0.0037\n",
            "Epoch 262/500\n",
            "1/1 [==============================] - 0s 83ms/step - loss: 0.0037\n",
            "Epoch 263/500\n",
            "1/1 [==============================] - 0s 86ms/step - loss: 0.0037\n",
            "Epoch 264/500\n",
            "1/1 [==============================] - 0s 83ms/step - loss: 0.0037\n",
            "Epoch 265/500\n",
            "1/1 [==============================] - 0s 83ms/step - loss: 0.0037\n",
            "Epoch 266/500\n",
            "1/1 [==============================] - 0s 81ms/step - loss: 0.0037\n",
            "Epoch 267/500\n",
            "1/1 [==============================] - 0s 85ms/step - loss: 0.0037\n",
            "Epoch 268/500\n",
            "1/1 [==============================] - 0s 89ms/step - loss: 0.0037\n",
            "Epoch 269/500\n",
            "1/1 [==============================] - 0s 83ms/step - loss: 0.0037\n",
            "Epoch 270/500\n",
            "1/1 [==============================] - 0s 82ms/step - loss: 0.0037\n",
            "Epoch 271/500\n",
            "1/1 [==============================] - 0s 82ms/step - loss: 0.0037\n",
            "Epoch 272/500\n",
            "1/1 [==============================] - 0s 83ms/step - loss: 0.0037\n",
            "Epoch 273/500\n",
            "1/1 [==============================] - 0s 83ms/step - loss: 0.0037\n",
            "Epoch 274/500\n",
            "1/1 [==============================] - 0s 85ms/step - loss: 0.0037\n",
            "Epoch 275/500\n",
            "1/1 [==============================] - 0s 82ms/step - loss: 0.0037\n",
            "Epoch 276/500\n",
            "1/1 [==============================] - 0s 84ms/step - loss: 0.0037\n",
            "Epoch 277/500\n",
            "1/1 [==============================] - 0s 82ms/step - loss: 0.0037\n",
            "Epoch 278/500\n",
            "1/1 [==============================] - 0s 83ms/step - loss: 0.0037\n",
            "Epoch 279/500\n",
            "1/1 [==============================] - 0s 83ms/step - loss: 0.0037\n",
            "Epoch 280/500\n",
            "1/1 [==============================] - 0s 82ms/step - loss: 0.0037\n",
            "Epoch 281/500\n",
            "1/1 [==============================] - 0s 82ms/step - loss: 0.0037\n",
            "Epoch 282/500\n",
            "1/1 [==============================] - 0s 85ms/step - loss: 0.0037\n",
            "Epoch 283/500\n",
            "1/1 [==============================] - 0s 80ms/step - loss: 0.0037\n",
            "Epoch 284/500\n",
            "1/1 [==============================] - 0s 83ms/step - loss: 0.0037\n",
            "Epoch 285/500\n",
            "1/1 [==============================] - 0s 84ms/step - loss: 0.0037\n",
            "Epoch 286/500\n",
            "1/1 [==============================] - 0s 81ms/step - loss: 0.0037\n",
            "Epoch 287/500\n",
            "1/1 [==============================] - 0s 81ms/step - loss: 0.0037\n",
            "Epoch 288/500\n",
            "1/1 [==============================] - 0s 83ms/step - loss: 0.0037\n",
            "Epoch 289/500\n",
            "1/1 [==============================] - 0s 85ms/step - loss: 0.0037\n",
            "Epoch 290/500\n",
            "1/1 [==============================] - 0s 84ms/step - loss: 0.0037\n",
            "Epoch 291/500\n",
            "1/1 [==============================] - 0s 85ms/step - loss: 0.0037\n",
            "Epoch 292/500\n",
            "1/1 [==============================] - 0s 83ms/step - loss: 0.0037\n",
            "Epoch 293/500\n",
            "1/1 [==============================] - 0s 83ms/step - loss: 0.0037\n",
            "Epoch 294/500\n",
            "1/1 [==============================] - 0s 87ms/step - loss: 0.0037\n",
            "Epoch 295/500\n",
            "1/1 [==============================] - 0s 82ms/step - loss: 0.0037\n",
            "Epoch 296/500\n",
            "1/1 [==============================] - 0s 86ms/step - loss: 0.0037\n",
            "Epoch 297/500\n",
            "1/1 [==============================] - 0s 82ms/step - loss: 0.0037\n",
            "Epoch 298/500\n",
            "1/1 [==============================] - 0s 82ms/step - loss: 0.0037\n",
            "Epoch 299/500\n",
            "1/1 [==============================] - 0s 81ms/step - loss: 0.0037\n",
            "Epoch 300/500\n",
            "1/1 [==============================] - 0s 83ms/step - loss: 0.0037\n",
            "Epoch 301/500\n",
            "1/1 [==============================] - 0s 82ms/step - loss: 0.0037\n",
            "Epoch 302/500\n",
            "1/1 [==============================] - 0s 85ms/step - loss: 0.0037\n",
            "Epoch 303/500\n",
            "1/1 [==============================] - 0s 81ms/step - loss: 0.0037\n",
            "Epoch 304/500\n",
            "1/1 [==============================] - 0s 84ms/step - loss: 0.0037\n",
            "Epoch 305/500\n",
            "1/1 [==============================] - 0s 81ms/step - loss: 0.0037\n",
            "Epoch 306/500\n",
            "1/1 [==============================] - 0s 85ms/step - loss: 0.0037\n",
            "Epoch 307/500\n",
            "1/1 [==============================] - 0s 84ms/step - loss: 0.0037\n",
            "Epoch 308/500\n",
            "1/1 [==============================] - 0s 85ms/step - loss: 0.0037\n",
            "Epoch 309/500\n",
            "1/1 [==============================] - 0s 81ms/step - loss: 0.0037\n",
            "Epoch 310/500\n",
            "1/1 [==============================] - 0s 84ms/step - loss: 0.0037\n",
            "Epoch 311/500\n",
            "1/1 [==============================] - 0s 80ms/step - loss: 0.0037\n",
            "Epoch 312/500\n",
            "1/1 [==============================] - 0s 83ms/step - loss: 0.0037\n",
            "Epoch 313/500\n",
            "1/1 [==============================] - 0s 86ms/step - loss: 0.0037\n",
            "Epoch 314/500\n",
            "1/1 [==============================] - 0s 81ms/step - loss: 0.0037\n",
            "Epoch 315/500\n",
            "1/1 [==============================] - 0s 84ms/step - loss: 0.0037\n",
            "Epoch 316/500\n",
            "1/1 [==============================] - 0s 81ms/step - loss: 0.0037\n",
            "Epoch 317/500\n",
            "1/1 [==============================] - 0s 80ms/step - loss: 0.0037\n",
            "Epoch 318/500\n",
            "1/1 [==============================] - 0s 84ms/step - loss: 0.0037\n",
            "Epoch 319/500\n",
            "1/1 [==============================] - 0s 82ms/step - loss: 0.0037\n",
            "Epoch 320/500\n",
            "1/1 [==============================] - 0s 79ms/step - loss: 0.0037\n",
            "Epoch 321/500\n",
            "1/1 [==============================] - 0s 82ms/step - loss: 0.0037\n",
            "Epoch 322/500\n",
            "1/1 [==============================] - 0s 83ms/step - loss: 0.0037\n",
            "Epoch 323/500\n",
            "1/1 [==============================] - 0s 83ms/step - loss: 0.0037\n",
            "Epoch 324/500\n",
            "1/1 [==============================] - 0s 88ms/step - loss: 0.0037\n",
            "Epoch 325/500\n",
            "1/1 [==============================] - 0s 83ms/step - loss: 0.0037\n",
            "Epoch 326/500\n",
            "1/1 [==============================] - 0s 81ms/step - loss: 0.0037\n",
            "Epoch 327/500\n",
            "1/1 [==============================] - 0s 82ms/step - loss: 0.0037\n",
            "Epoch 328/500\n",
            "1/1 [==============================] - 0s 83ms/step - loss: 0.0037\n",
            "Epoch 329/500\n",
            "1/1 [==============================] - 0s 81ms/step - loss: 0.0037\n",
            "Epoch 330/500\n",
            "1/1 [==============================] - 0s 83ms/step - loss: 0.0037\n",
            "Epoch 331/500\n",
            "1/1 [==============================] - 0s 83ms/step - loss: 0.0037\n",
            "Epoch 332/500\n",
            "1/1 [==============================] - 0s 82ms/step - loss: 0.0037\n",
            "Epoch 333/500\n",
            "1/1 [==============================] - 0s 81ms/step - loss: 0.0037\n",
            "Epoch 334/500\n",
            "1/1 [==============================] - 0s 82ms/step - loss: 0.0037\n",
            "Epoch 335/500\n",
            "1/1 [==============================] - 0s 84ms/step - loss: 0.0037\n",
            "Epoch 336/500\n",
            "1/1 [==============================] - 0s 82ms/step - loss: 0.0037\n",
            "Epoch 337/500\n",
            "1/1 [==============================] - 0s 84ms/step - loss: 0.0037\n",
            "Epoch 338/500\n",
            "1/1 [==============================] - 0s 82ms/step - loss: 0.0037\n",
            "Epoch 339/500\n",
            "1/1 [==============================] - 0s 83ms/step - loss: 0.0037\n",
            "Epoch 340/500\n",
            "1/1 [==============================] - 0s 84ms/step - loss: 0.0037\n",
            "Epoch 341/500\n",
            "1/1 [==============================] - 0s 83ms/step - loss: 0.0037\n",
            "Epoch 342/500\n",
            "1/1 [==============================] - 0s 82ms/step - loss: 0.0037\n",
            "Epoch 343/500\n",
            "1/1 [==============================] - 0s 80ms/step - loss: 0.0037\n",
            "Epoch 344/500\n",
            "1/1 [==============================] - 0s 83ms/step - loss: 0.0037\n",
            "Epoch 345/500\n",
            "1/1 [==============================] - 0s 82ms/step - loss: 0.0037\n",
            "Epoch 346/500\n",
            "1/1 [==============================] - 0s 84ms/step - loss: 0.0037\n",
            "Epoch 347/500\n",
            "1/1 [==============================] - 0s 86ms/step - loss: 0.0037\n",
            "Epoch 348/500\n",
            "1/1 [==============================] - 0s 85ms/step - loss: 0.0037\n",
            "Epoch 349/500\n",
            "1/1 [==============================] - 0s 83ms/step - loss: 0.0037\n",
            "Epoch 350/500\n",
            "1/1 [==============================] - 0s 83ms/step - loss: 0.0037\n",
            "Epoch 351/500\n",
            "1/1 [==============================] - 0s 81ms/step - loss: 0.0037\n",
            "Epoch 352/500\n",
            "1/1 [==============================] - 0s 82ms/step - loss: 0.0037\n",
            "Epoch 353/500\n",
            "1/1 [==============================] - 0s 81ms/step - loss: 0.0037\n",
            "Epoch 354/500\n",
            "1/1 [==============================] - 0s 83ms/step - loss: 0.0037\n",
            "Epoch 355/500\n",
            "1/1 [==============================] - 0s 82ms/step - loss: 0.0037\n",
            "Epoch 356/500\n",
            "1/1 [==============================] - 0s 83ms/step - loss: 0.0037\n",
            "Epoch 357/500\n",
            "1/1 [==============================] - 0s 84ms/step - loss: 0.0037\n",
            "Epoch 358/500\n",
            "1/1 [==============================] - 0s 83ms/step - loss: 0.0037\n",
            "Epoch 359/500\n",
            "1/1 [==============================] - 0s 86ms/step - loss: 0.0037\n",
            "Epoch 360/500\n",
            "1/1 [==============================] - 0s 82ms/step - loss: 0.0037\n",
            "Epoch 361/500\n",
            "1/1 [==============================] - 0s 84ms/step - loss: 0.0037\n",
            "Epoch 362/500\n",
            "1/1 [==============================] - 0s 82ms/step - loss: 0.0037\n",
            "Epoch 363/500\n",
            "1/1 [==============================] - 0s 83ms/step - loss: 0.0037\n",
            "Epoch 364/500\n",
            "1/1 [==============================] - 0s 83ms/step - loss: 0.0037\n",
            "Epoch 365/500\n",
            "1/1 [==============================] - 0s 81ms/step - loss: 0.0037\n",
            "Epoch 366/500\n",
            "1/1 [==============================] - 0s 83ms/step - loss: 0.0037\n",
            "Epoch 367/500\n",
            "1/1 [==============================] - 0s 85ms/step - loss: 0.0037\n",
            "Epoch 368/500\n",
            "1/1 [==============================] - 0s 81ms/step - loss: 0.0037\n",
            "Epoch 369/500\n",
            "1/1 [==============================] - 0s 81ms/step - loss: 0.0037\n",
            "Epoch 370/500\n",
            "1/1 [==============================] - 0s 84ms/step - loss: 0.0037\n",
            "Epoch 371/500\n",
            "1/1 [==============================] - 0s 85ms/step - loss: 0.0037\n",
            "Epoch 372/500\n",
            "1/1 [==============================] - 0s 86ms/step - loss: 0.0037\n",
            "Epoch 373/500\n",
            "1/1 [==============================] - 0s 82ms/step - loss: 0.0037\n",
            "Epoch 374/500\n",
            "1/1 [==============================] - 0s 83ms/step - loss: 0.0037\n",
            "Epoch 375/500\n",
            "1/1 [==============================] - 0s 82ms/step - loss: 0.0037\n",
            "Epoch 376/500\n",
            "1/1 [==============================] - 0s 88ms/step - loss: 0.0037\n",
            "Epoch 377/500\n",
            "1/1 [==============================] - 0s 81ms/step - loss: 0.0037\n",
            "Epoch 378/500\n",
            "1/1 [==============================] - 0s 82ms/step - loss: 0.0037\n",
            "Epoch 379/500\n",
            "1/1 [==============================] - 0s 82ms/step - loss: 0.0037\n",
            "Epoch 380/500\n",
            "1/1 [==============================] - 0s 84ms/step - loss: 0.0038\n",
            "Epoch 381/500\n",
            "1/1 [==============================] - 0s 84ms/step - loss: 0.0038\n",
            "Epoch 382/500\n",
            "1/1 [==============================] - 0s 81ms/step - loss: 0.0038\n",
            "Epoch 383/500\n",
            "1/1 [==============================] - 0s 81ms/step - loss: 0.0038\n",
            "Epoch 384/500\n",
            "1/1 [==============================] - 0s 83ms/step - loss: 0.0037\n",
            "Epoch 385/500\n",
            "1/1 [==============================] - 0s 83ms/step - loss: 0.0037\n",
            "Epoch 386/500\n",
            "1/1 [==============================] - 0s 82ms/step - loss: 0.0037\n",
            "Epoch 387/500\n",
            "1/1 [==============================] - 0s 82ms/step - loss: 0.0037\n",
            "Epoch 388/500\n",
            "1/1 [==============================] - 0s 84ms/step - loss: 0.0037\n",
            "Epoch 389/500\n",
            "1/1 [==============================] - 0s 81ms/step - loss: 0.0037\n",
            "Epoch 390/500\n",
            "1/1 [==============================] - 0s 86ms/step - loss: 0.0037\n",
            "Epoch 391/500\n",
            "1/1 [==============================] - 0s 83ms/step - loss: 0.0037\n",
            "Epoch 392/500\n",
            "1/1 [==============================] - 0s 83ms/step - loss: 0.0037\n",
            "Epoch 393/500\n",
            "1/1 [==============================] - 0s 81ms/step - loss: 0.0037\n",
            "Epoch 394/500\n",
            "1/1 [==============================] - 0s 83ms/step - loss: 0.0037\n",
            "Epoch 395/500\n",
            "1/1 [==============================] - 0s 85ms/step - loss: 0.0037\n",
            "Epoch 396/500\n",
            "1/1 [==============================] - 0s 83ms/step - loss: 0.0037\n",
            "Epoch 397/500\n",
            "1/1 [==============================] - 0s 81ms/step - loss: 0.0037\n",
            "Epoch 398/500\n",
            "1/1 [==============================] - 0s 81ms/step - loss: 0.0037\n",
            "Epoch 399/500\n",
            "1/1 [==============================] - 0s 83ms/step - loss: 0.0037\n",
            "Epoch 400/500\n",
            "1/1 [==============================] - 0s 83ms/step - loss: 0.0037\n",
            "Epoch 401/500\n",
            "1/1 [==============================] - 0s 81ms/step - loss: 0.0037\n",
            "Epoch 402/500\n",
            "1/1 [==============================] - 0s 80ms/step - loss: 0.0037\n",
            "Epoch 403/500\n",
            "1/1 [==============================] - 0s 83ms/step - loss: 0.0037\n",
            "Epoch 404/500\n",
            "1/1 [==============================] - 0s 82ms/step - loss: 0.0037\n",
            "Epoch 405/500\n",
            "1/1 [==============================] - 0s 82ms/step - loss: 0.0037\n",
            "Epoch 406/500\n",
            "1/1 [==============================] - 0s 82ms/step - loss: 0.0037\n",
            "Epoch 407/500\n",
            "1/1 [==============================] - 0s 82ms/step - loss: 0.0037\n",
            "Epoch 408/500\n",
            "1/1 [==============================] - 0s 85ms/step - loss: 0.0037\n",
            "Epoch 409/500\n",
            "1/1 [==============================] - 0s 83ms/step - loss: 0.0037\n",
            "Epoch 410/500\n",
            "1/1 [==============================] - 0s 85ms/step - loss: 0.0037\n",
            "Epoch 411/500\n",
            "1/1 [==============================] - 0s 82ms/step - loss: 0.0037\n",
            "Epoch 412/500\n",
            "1/1 [==============================] - 0s 84ms/step - loss: 0.0037\n",
            "Epoch 413/500\n",
            "1/1 [==============================] - 0s 83ms/step - loss: 0.0037\n",
            "Epoch 414/500\n",
            "1/1 [==============================] - 0s 83ms/step - loss: 0.0037\n",
            "Epoch 415/500\n",
            "1/1 [==============================] - 0s 87ms/step - loss: 0.0037\n",
            "Epoch 416/500\n",
            "1/1 [==============================] - 0s 85ms/step - loss: 0.0037\n",
            "Epoch 417/500\n",
            "1/1 [==============================] - 0s 84ms/step - loss: 0.0037\n",
            "Epoch 418/500\n",
            "1/1 [==============================] - 0s 82ms/step - loss: 0.0037\n",
            "Epoch 419/500\n",
            "1/1 [==============================] - 0s 86ms/step - loss: 0.0037\n",
            "Epoch 420/500\n",
            "1/1 [==============================] - 0s 83ms/step - loss: 0.0037\n",
            "Epoch 421/500\n",
            "1/1 [==============================] - 0s 84ms/step - loss: 0.0037\n",
            "Epoch 422/500\n",
            "1/1 [==============================] - 0s 84ms/step - loss: 0.0037\n",
            "Epoch 423/500\n",
            "1/1 [==============================] - 0s 83ms/step - loss: 0.0037\n",
            "Epoch 424/500\n",
            "1/1 [==============================] - 0s 84ms/step - loss: 0.0037\n",
            "Epoch 425/500\n",
            "1/1 [==============================] - 0s 85ms/step - loss: 0.0037\n",
            "Epoch 426/500\n",
            "1/1 [==============================] - 0s 83ms/step - loss: 0.0037\n",
            "Epoch 427/500\n",
            "1/1 [==============================] - 0s 83ms/step - loss: 0.0037\n",
            "Epoch 428/500\n",
            "1/1 [==============================] - 0s 82ms/step - loss: 0.0037\n",
            "Epoch 429/500\n",
            "1/1 [==============================] - 0s 80ms/step - loss: 0.0037\n",
            "Epoch 430/500\n",
            "1/1 [==============================] - 0s 85ms/step - loss: 0.0037\n",
            "Epoch 431/500\n",
            "1/1 [==============================] - 0s 81ms/step - loss: 0.0037\n",
            "Epoch 432/500\n",
            "1/1 [==============================] - 0s 82ms/step - loss: 0.0037\n",
            "Epoch 433/500\n",
            "1/1 [==============================] - 0s 82ms/step - loss: 0.0037\n",
            "Epoch 434/500\n",
            "1/1 [==============================] - 0s 82ms/step - loss: 0.0037\n",
            "Epoch 435/500\n",
            "1/1 [==============================] - 0s 83ms/step - loss: 0.0037\n",
            "Epoch 436/500\n",
            "1/1 [==============================] - 0s 80ms/step - loss: 0.0037\n",
            "Epoch 437/500\n",
            "1/1 [==============================] - 0s 82ms/step - loss: 0.0037\n",
            "Epoch 438/500\n",
            "1/1 [==============================] - 0s 84ms/step - loss: 0.0037\n",
            "Epoch 439/500\n",
            "1/1 [==============================] - 0s 82ms/step - loss: 0.0037\n",
            "Epoch 440/500\n",
            "1/1 [==============================] - 0s 86ms/step - loss: 0.0037\n",
            "Epoch 441/500\n",
            "1/1 [==============================] - 0s 81ms/step - loss: 0.0037\n",
            "Epoch 442/500\n",
            "1/1 [==============================] - 0s 81ms/step - loss: 0.0037\n",
            "Epoch 443/500\n",
            "1/1 [==============================] - 0s 81ms/step - loss: 0.0037\n",
            "Epoch 444/500\n",
            "1/1 [==============================] - 0s 81ms/step - loss: 0.0037\n",
            "Epoch 445/500\n",
            "1/1 [==============================] - 0s 81ms/step - loss: 0.0037\n",
            "Epoch 446/500\n",
            "1/1 [==============================] - 0s 79ms/step - loss: 0.0037\n",
            "Epoch 447/500\n",
            "1/1 [==============================] - 0s 83ms/step - loss: 0.0037\n",
            "Epoch 448/500\n",
            "1/1 [==============================] - 0s 80ms/step - loss: 0.0037\n",
            "Epoch 449/500\n",
            "1/1 [==============================] - 0s 82ms/step - loss: 0.0037\n",
            "Epoch 450/500\n",
            "1/1 [==============================] - 0s 82ms/step - loss: 0.0037\n",
            "Epoch 451/500\n",
            "1/1 [==============================] - 0s 82ms/step - loss: 0.0037\n",
            "Epoch 452/500\n",
            "1/1 [==============================] - 0s 83ms/step - loss: 0.0037\n",
            "Epoch 453/500\n",
            "1/1 [==============================] - 0s 82ms/step - loss: 0.0037\n",
            "Epoch 454/500\n",
            "1/1 [==============================] - 0s 84ms/step - loss: 0.0037\n",
            "Epoch 455/500\n",
            "1/1 [==============================] - 0s 85ms/step - loss: 0.0037\n",
            "Epoch 456/500\n",
            "1/1 [==============================] - 0s 81ms/step - loss: 0.0037\n",
            "Epoch 457/500\n",
            "1/1 [==============================] - 0s 86ms/step - loss: 0.0037\n",
            "Epoch 458/500\n",
            "1/1 [==============================] - 0s 83ms/step - loss: 0.0037\n",
            "Epoch 459/500\n",
            "1/1 [==============================] - 0s 91ms/step - loss: 0.0037\n",
            "Epoch 460/500\n",
            "1/1 [==============================] - 0s 83ms/step - loss: 0.0037\n",
            "Epoch 461/500\n",
            "1/1 [==============================] - 0s 83ms/step - loss: 0.0037\n",
            "Epoch 462/500\n",
            "1/1 [==============================] - 0s 86ms/step - loss: 0.0037\n",
            "Epoch 463/500\n",
            "1/1 [==============================] - 0s 82ms/step - loss: 0.0037\n",
            "Epoch 464/500\n",
            "1/1 [==============================] - 0s 81ms/step - loss: 0.0037\n",
            "Epoch 465/500\n",
            "1/1 [==============================] - 0s 80ms/step - loss: 0.0037\n",
            "Epoch 466/500\n",
            "1/1 [==============================] - 0s 82ms/step - loss: 0.0037\n",
            "Epoch 467/500\n",
            "1/1 [==============================] - 0s 82ms/step - loss: 0.0037\n",
            "Epoch 468/500\n",
            "1/1 [==============================] - 0s 82ms/step - loss: 0.0037\n",
            "Epoch 469/500\n",
            "1/1 [==============================] - 0s 81ms/step - loss: 0.0037\n",
            "Epoch 470/500\n",
            "1/1 [==============================] - 0s 82ms/step - loss: 0.0037\n",
            "Epoch 471/500\n",
            "1/1 [==============================] - 0s 85ms/step - loss: 0.0037\n",
            "Epoch 472/500\n",
            "1/1 [==============================] - 0s 82ms/step - loss: 0.0037\n",
            "Epoch 473/500\n",
            "1/1 [==============================] - 0s 81ms/step - loss: 0.0037\n",
            "Epoch 474/500\n",
            "1/1 [==============================] - 0s 83ms/step - loss: 0.0037\n",
            "Epoch 475/500\n",
            "1/1 [==============================] - 0s 82ms/step - loss: 0.0037\n",
            "Epoch 476/500\n",
            "1/1 [==============================] - 0s 86ms/step - loss: 0.0037\n",
            "Epoch 477/500\n",
            "1/1 [==============================] - 0s 84ms/step - loss: 0.0037\n",
            "Epoch 478/500\n",
            "1/1 [==============================] - 0s 84ms/step - loss: 0.0037\n",
            "Epoch 479/500\n",
            "1/1 [==============================] - 0s 85ms/step - loss: 0.0037\n",
            "Epoch 480/500\n",
            "1/1 [==============================] - 0s 81ms/step - loss: 0.0037\n",
            "Epoch 481/500\n",
            "1/1 [==============================] - 0s 83ms/step - loss: 0.0037\n",
            "Epoch 482/500\n",
            "1/1 [==============================] - 0s 83ms/step - loss: 0.0037\n",
            "Epoch 483/500\n",
            "1/1 [==============================] - 0s 82ms/step - loss: 0.0037\n",
            "Epoch 484/500\n",
            "1/1 [==============================] - 0s 80ms/step - loss: 0.0037\n",
            "Epoch 485/500\n",
            "1/1 [==============================] - 0s 83ms/step - loss: 0.0037\n",
            "Epoch 486/500\n",
            "1/1 [==============================] - 0s 83ms/step - loss: 0.0037\n",
            "Epoch 487/500\n",
            "1/1 [==============================] - 0s 82ms/step - loss: 0.0037\n",
            "Epoch 488/500\n",
            "1/1 [==============================] - 0s 83ms/step - loss: 0.0037\n",
            "Epoch 489/500\n",
            "1/1 [==============================] - 0s 85ms/step - loss: 0.0037\n",
            "Epoch 490/500\n",
            "1/1 [==============================] - 0s 88ms/step - loss: 0.0037\n",
            "Epoch 491/500\n",
            "1/1 [==============================] - 0s 81ms/step - loss: 0.0037\n",
            "Epoch 492/500\n",
            "1/1 [==============================] - 0s 81ms/step - loss: 0.0037\n",
            "Epoch 493/500\n",
            "1/1 [==============================] - 0s 86ms/step - loss: 0.0037\n",
            "Epoch 494/500\n",
            "1/1 [==============================] - 0s 81ms/step - loss: 0.0037\n",
            "Epoch 495/500\n",
            "1/1 [==============================] - 0s 80ms/step - loss: 0.0037\n",
            "Epoch 496/500\n",
            "1/1 [==============================] - 0s 82ms/step - loss: 0.0037\n",
            "Epoch 497/500\n",
            "1/1 [==============================] - 0s 81ms/step - loss: 0.0037\n",
            "Epoch 498/500\n",
            "1/1 [==============================] - 0s 84ms/step - loss: 0.0037\n",
            "Epoch 499/500\n",
            "1/1 [==============================] - 0s 80ms/step - loss: 0.0037\n",
            "Epoch 500/500\n",
            "1/1 [==============================] - 0s 82ms/step - loss: 0.0037\n"
          ]
        },
        {
          "output_type": "execute_result",
          "data": {
            "text/plain": [
              "<keras.callbacks.History at 0x7fa23918ecd0>"
            ]
          },
          "metadata": {},
          "execution_count": 128
        }
      ]
    },
    {
      "cell_type": "code",
      "source": [
        "path_test = \"/content/drive/MyDrive/Datasets/Lung Segmentation Dataset/test\"\n",
        "xtest= []\n",
        "ytest = []\n",
        "for file_name in os.listdir(path_test) : \n",
        "        if(file_name.endswith('.jpg')) :\n",
        "            xtest.append(plt.imread(os.path.join(path_test , file_name )))\n",
        "            ytest.append(plt.imread(os.path.join(path_test , file_name + '-msk.png')))"
      ],
      "metadata": {
        "id": "KWZQmGZfA345"
      },
      "execution_count": 129,
      "outputs": []
    },
    {
      "cell_type": "code",
      "source": [
        "xtest = np.array(xtest)[ : , : , : , None] /255.0\n",
        "ytest = np.array(ytest)[: , : , : , None]"
      ],
      "metadata": {
        "id": "yrzD1IdiCJCW"
      },
      "execution_count": 130,
      "outputs": []
    },
    {
      "cell_type": "code",
      "source": [
        "z = segnet(xtest)"
      ],
      "metadata": {
        "id": "N-PL6Z2jBmBw"
      },
      "execution_count": 131,
      "outputs": []
    },
    {
      "cell_type": "code",
      "source": [
        "fig = plt.figure(figsize = (6 , 6))\n",
        "\n",
        "for i in range(3) : \n",
        "    fig.add_subplot(3 , 3 , (i + 1) * 3 - 2) \n",
        "    plt.imshow(ytest[i][ : , : , 0] > 0.5 )\n",
        "\n",
        "    fig.add_subplot(3 , 3 , (i + 1) * 3 - 1 ) \n",
        "    plt.imshow(xtest[i][ : , : , 0]  )\n",
        "\n",
        "    fig.add_subplot(3 , 3 , (i + 1) * 3  ) \n",
        "    plt.imshow(z[i][ : , : , 0] > 0.5 )"
      ],
      "metadata": {
        "colab": {
          "base_uri": "https://localhost:8080/",
          "height": 378
        },
        "id": "4yASapNKBx6E",
        "outputId": "c072054d-6c3a-4c3d-ea3d-e3a4dbc62123"
      },
      "execution_count": 132,
      "outputs": [
        {
          "output_type": "display_data",
          "data": {
            "text/plain": [
              "<Figure size 432x432 with 9 Axes>"
            ],
            "image/png": "[encoded data removed]"
          },
          "metadata": {
            "needs_background": "light"
          }
        }
      ]
    },
    {
      "cell_type": "code",
      "source": [],
      "metadata": {
        "id": "joTh089oCagV"
      },
      "execution_count": 132,
      "outputs": []
    }
  ]
}