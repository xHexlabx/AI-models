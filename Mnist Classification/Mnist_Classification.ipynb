{
  "nbformat": 4,
  "nbformat_minor": 0,
  "metadata": {
    "colab": {
      "provenance": [],
      "toc_visible": true,
      "authorship_tag": "ABX9TyNcqfwHyuX4haRl7lHfZ72L",
      "include_colab_link": true
    },
    "kernelspec": {
      "name": "python3",
      "display_name": "Python 3"
    },
    "language_info": {
      "name": "python"
    },
    "accelerator": "GPU",
    "gpuClass": "standard"
  },
  "cells": [
    {
      "cell_type": "markdown",
      "metadata": {
        "id": "view-in-github",
        "colab_type": "text"
      },
      "source": [
        "<a href=\"https://colab.research.google.com/github/xHexlabx/AI-models/blob/main/Mnist%20Classification/Mnist_Classification.ipynb\" target=\"_parent\"><img src=\"https://colab.research.google.com/assets/colab-badge.svg\" alt=\"Open In Colab\"/></a>"
      ]
    },
    {
      "cell_type": "markdown",
      "source": [
        "# MLP image classification\n"
      ],
      "metadata": {
        "id": "lXiC1_ZnjXqt"
      }
    },
    {
      "cell_type": "code",
      "execution_count": null,
      "metadata": {
        "id": "wfEaZUJWBdr8"
      },
      "outputs": [],
      "source": [
        "import numpy as np\n",
        "import tensorflow as tf\n",
        "import matplotlib.pyplot as plt"
      ]
    },
    {
      "cell_type": "code",
      "source": [
        "datasets = tf.keras.datasets.mnist.load_data()"
      ],
      "metadata": {
        "id": "IihfD8R3Cbuk"
      },
      "execution_count": null,
      "outputs": []
    },
    {
      "cell_type": "code",
      "source": [
        "(xtrain , ytrain) , (xtest , ytest) = datasets"
      ],
      "metadata": {
        "id": "O9VWyC6BjBcC"
      },
      "execution_count": null,
      "outputs": []
    },
    {
      "cell_type": "code",
      "source": [
        "print(xtrain.shape , ytrain.shape , xtest.shape , ytest.shape)"
      ],
      "metadata": {
        "id": "omatFdyNkH8I"
      },
      "execution_count": null,
      "outputs": []
    },
    {
      "cell_type": "code",
      "source": [
        "ytrain[0]"
      ],
      "metadata": {
        "id": "DU0uXokot3Fc"
      },
      "execution_count": null,
      "outputs": []
    },
    {
      "cell_type": "code",
      "source": [
        "xtrain = xtrain.reshape([-1 , 28 * 28])\n",
        "xtest  = xtest.reshape(-1 , 28 * 28)"
      ],
      "metadata": {
        "id": "323gfkm8kbSV"
      },
      "execution_count": null,
      "outputs": []
    },
    {
      "cell_type": "code",
      "source": [
        "#normalize\n",
        "xtrain = xtrain / 255.0\n",
        "xtest = xtest / 255.0"
      ],
      "metadata": {
        "id": "bfaoYk2hqxhp"
      },
      "execution_count": null,
      "outputs": []
    },
    {
      "cell_type": "code",
      "source": [
        "#one-hot encoding \n",
        "ytrain = tf.keras.utils.to_categorical(ytrain , num_classes = 10 , dtype = 'float32')\n",
        "ytest = tf.keras.utils.to_categorical(ytest , num_classes= 10 , dtype = 'float32')"
      ],
      "metadata": {
        "id": "iA94kAjTr2J6"
      },
      "execution_count": null,
      "outputs": []
    },
    {
      "cell_type": "code",
      "source": [
        "print(xtrain.shape , ytrain.shape , xtest.shape , ytest.shape)"
      ],
      "metadata": {
        "id": "2gDE3vGqtYHQ"
      },
      "execution_count": null,
      "outputs": []
    },
    {
      "cell_type": "code",
      "source": [
        "model = tf.keras.Sequential()\n",
        "model.add(tf.keras.layers.Dense(256 , input_shape = (28 * 28 , ) , activation = 'relu'))\n",
        "model.add(tf.keras.layers.Dense(256 , activation = 'relu'))\n",
        "model.add(tf.keras.layers.Dense(10 , activation = 'softmax'))\n",
        "model.compile(loss = 'mse' , optimizer = 'sgd' , metrics = 'accuracy')\n",
        "model.summary()"
      ],
      "metadata": {
        "id": "5oEStwEUsMdt"
      },
      "execution_count": null,
      "outputs": []
    },
    {
      "cell_type": "code",
      "source": [
        "model.fit(xtrain , ytrain , epochs = 50 , validation_data = (xtest , ytest))"
      ],
      "metadata": {
        "colab": {
          "base_uri": "https://localhost:8080/"
        },
        "id": "bEFKsRnitFRJ",
        "outputId": "e8418955-8695-4855-9866-34e6b40bee23"
      },
      "execution_count": 18,
      "outputs": [
        {
          "output_type": "stream",
          "name": "stdout",
          "text": [
            "Epoch 1/50\n",
            "1875/1875 [==============================] - 6s 3ms/step - loss: 0.0362 - accuracy: 0.9871 - val_loss: 0.7017 - val_accuracy: 0.9047\n",
            "Epoch 2/50\n",
            "1875/1875 [==============================] - 7s 4ms/step - loss: 0.0364 - accuracy: 0.9873 - val_loss: 0.7416 - val_accuracy: 0.9009\n",
            "Epoch 3/50\n",
            "1875/1875 [==============================] - 7s 4ms/step - loss: 0.0329 - accuracy: 0.9882 - val_loss: 0.7775 - val_accuracy: 0.9009\n",
            "Epoch 4/50\n",
            "1875/1875 [==============================] - 7s 4ms/step - loss: 0.0344 - accuracy: 0.9880 - val_loss: 0.7097 - val_accuracy: 0.9040\n",
            "Epoch 5/50\n",
            "1875/1875 [==============================] - 7s 4ms/step - loss: 0.0340 - accuracy: 0.9882 - val_loss: 0.7468 - val_accuracy: 0.9024\n",
            "Epoch 6/50\n",
            "1875/1875 [==============================] - 7s 4ms/step - loss: 0.0397 - accuracy: 0.9866 - val_loss: 0.7479 - val_accuracy: 0.9029\n",
            "Epoch 7/50\n",
            "1875/1875 [==============================] - 7s 4ms/step - loss: 0.0289 - accuracy: 0.9896 - val_loss: 0.8107 - val_accuracy: 0.9037\n",
            "Epoch 8/50\n",
            "1875/1875 [==============================] - 6s 3ms/step - loss: 0.0349 - accuracy: 0.9878 - val_loss: 0.8041 - val_accuracy: 0.9019\n",
            "Epoch 9/50\n",
            "1875/1875 [==============================] - 7s 4ms/step - loss: 0.0315 - accuracy: 0.9885 - val_loss: 0.8201 - val_accuracy: 0.9024\n",
            "Epoch 10/50\n",
            "1875/1875 [==============================] - 7s 4ms/step - loss: 0.0327 - accuracy: 0.9893 - val_loss: 0.8462 - val_accuracy: 0.8987\n",
            "Epoch 11/50\n",
            "1875/1875 [==============================] - 7s 4ms/step - loss: 0.0332 - accuracy: 0.9888 - val_loss: 0.7990 - val_accuracy: 0.9059\n",
            "Epoch 12/50\n",
            "1875/1875 [==============================] - 7s 4ms/step - loss: 0.0321 - accuracy: 0.9893 - val_loss: 0.8456 - val_accuracy: 0.9023\n",
            "Epoch 13/50\n",
            "1875/1875 [==============================] - 6s 3ms/step - loss: 0.0323 - accuracy: 0.9892 - val_loss: 0.8802 - val_accuracy: 0.9029\n",
            "Epoch 14/50\n",
            "1875/1875 [==============================] - 7s 4ms/step - loss: 0.0322 - accuracy: 0.9892 - val_loss: 0.8615 - val_accuracy: 0.9035\n",
            "Epoch 15/50\n",
            "1875/1875 [==============================] - 6s 3ms/step - loss: 0.0279 - accuracy: 0.9902 - val_loss: 0.8653 - val_accuracy: 0.9017\n",
            "Epoch 16/50\n",
            "1875/1875 [==============================] - 6s 3ms/step - loss: 0.0302 - accuracy: 0.9901 - val_loss: 0.9031 - val_accuracy: 0.9040\n",
            "Epoch 17/50\n",
            "1875/1875 [==============================] - 6s 3ms/step - loss: 0.0294 - accuracy: 0.9896 - val_loss: 0.9300 - val_accuracy: 0.9035\n",
            "Epoch 18/50\n",
            "1875/1875 [==============================] - 7s 4ms/step - loss: 0.0325 - accuracy: 0.9889 - val_loss: 0.9081 - val_accuracy: 0.9000\n",
            "Epoch 19/50\n",
            "1875/1875 [==============================] - 6s 3ms/step - loss: 0.0296 - accuracy: 0.9899 - val_loss: 0.9168 - val_accuracy: 0.8992\n",
            "Epoch 20/50\n",
            "1875/1875 [==============================] - 7s 4ms/step - loss: 0.0307 - accuracy: 0.9897 - val_loss: 0.9005 - val_accuracy: 0.9008\n",
            "Epoch 21/50\n",
            "1875/1875 [==============================] - 6s 3ms/step - loss: 0.0295 - accuracy: 0.9899 - val_loss: 0.9465 - val_accuracy: 0.9001\n",
            "Epoch 22/50\n",
            "1875/1875 [==============================] - 6s 3ms/step - loss: 0.0284 - accuracy: 0.9907 - val_loss: 0.9233 - val_accuracy: 0.8999\n",
            "Epoch 23/50\n",
            "1875/1875 [==============================] - 6s 3ms/step - loss: 0.0309 - accuracy: 0.9900 - val_loss: 0.9346 - val_accuracy: 0.9034\n",
            "Epoch 24/50\n",
            "1875/1875 [==============================] - 7s 4ms/step - loss: 0.0260 - accuracy: 0.9913 - val_loss: 0.9567 - val_accuracy: 0.9001\n",
            "Epoch 25/50\n",
            "1875/1875 [==============================] - 6s 3ms/step - loss: 0.0267 - accuracy: 0.9914 - val_loss: 1.0221 - val_accuracy: 0.9007\n",
            "Epoch 26/50\n",
            "1875/1875 [==============================] - 7s 4ms/step - loss: 0.0316 - accuracy: 0.9895 - val_loss: 1.0018 - val_accuracy: 0.9013\n",
            "Epoch 27/50\n",
            "1875/1875 [==============================] - 7s 4ms/step - loss: 0.0302 - accuracy: 0.9901 - val_loss: 0.9418 - val_accuracy: 0.9037\n",
            "Epoch 28/50\n",
            "1875/1875 [==============================] - 7s 4ms/step - loss: 0.0308 - accuracy: 0.9898 - val_loss: 0.9795 - val_accuracy: 0.8996\n",
            "Epoch 29/50\n",
            "1875/1875 [==============================] - 6s 3ms/step - loss: 0.0260 - accuracy: 0.9911 - val_loss: 1.0033 - val_accuracy: 0.9034\n",
            "Epoch 30/50\n",
            "1875/1875 [==============================] - 7s 4ms/step - loss: 0.0299 - accuracy: 0.9904 - val_loss: 1.0583 - val_accuracy: 0.8976\n",
            "Epoch 31/50\n",
            "1875/1875 [==============================] - 6s 3ms/step - loss: 0.0249 - accuracy: 0.9920 - val_loss: 0.9921 - val_accuracy: 0.9017\n",
            "Epoch 32/50\n",
            "1875/1875 [==============================] - 7s 4ms/step - loss: 0.0296 - accuracy: 0.9908 - val_loss: 0.9749 - val_accuracy: 0.9018\n",
            "Epoch 33/50\n",
            "1875/1875 [==============================] - 7s 4ms/step - loss: 0.0276 - accuracy: 0.9912 - val_loss: 1.0264 - val_accuracy: 0.9024\n",
            "Epoch 34/50\n",
            "1875/1875 [==============================] - 6s 3ms/step - loss: 0.0252 - accuracy: 0.9919 - val_loss: 1.0379 - val_accuracy: 0.8986\n",
            "Epoch 35/50\n",
            "1875/1875 [==============================] - 6s 3ms/step - loss: 0.0264 - accuracy: 0.9913 - val_loss: 1.0797 - val_accuracy: 0.8994\n",
            "Epoch 36/50\n",
            "1875/1875 [==============================] - 7s 4ms/step - loss: 0.0286 - accuracy: 0.9911 - val_loss: 1.0568 - val_accuracy: 0.9024\n",
            "Epoch 37/50\n",
            "1875/1875 [==============================] - 6s 3ms/step - loss: 0.0244 - accuracy: 0.9918 - val_loss: 1.0735 - val_accuracy: 0.9051\n",
            "Epoch 38/50\n",
            "1875/1875 [==============================] - 6s 3ms/step - loss: 0.0273 - accuracy: 0.9917 - val_loss: 1.0665 - val_accuracy: 0.9035\n",
            "Epoch 39/50\n",
            "1875/1875 [==============================] - 6s 3ms/step - loss: 0.0266 - accuracy: 0.9916 - val_loss: 1.0287 - val_accuracy: 0.9020\n",
            "Epoch 40/50\n",
            "1875/1875 [==============================] - 7s 4ms/step - loss: 0.0325 - accuracy: 0.9906 - val_loss: 1.0020 - val_accuracy: 0.9049\n",
            "Epoch 41/50\n",
            "1875/1875 [==============================] - 7s 4ms/step - loss: 0.0214 - accuracy: 0.9933 - val_loss: 1.0299 - val_accuracy: 0.9057\n",
            "Epoch 42/50\n",
            "1875/1875 [==============================] - 6s 3ms/step - loss: 0.0269 - accuracy: 0.9918 - val_loss: 1.0957 - val_accuracy: 0.9058\n",
            "Epoch 43/50\n",
            "1875/1875 [==============================] - 6s 3ms/step - loss: 0.0255 - accuracy: 0.9923 - val_loss: 1.0493 - val_accuracy: 0.9031\n",
            "Epoch 44/50\n",
            "1875/1875 [==============================] - 7s 4ms/step - loss: 0.0244 - accuracy: 0.9925 - val_loss: 1.0278 - val_accuracy: 0.9011\n",
            "Epoch 45/50\n",
            "1875/1875 [==============================] - 6s 3ms/step - loss: 0.0280 - accuracy: 0.9905 - val_loss: 1.0866 - val_accuracy: 0.9047\n",
            "Epoch 46/50\n",
            "1875/1875 [==============================] - 6s 3ms/step - loss: 0.0204 - accuracy: 0.9934 - val_loss: 1.1111 - val_accuracy: 0.9024\n",
            "Epoch 47/50\n",
            "1875/1875 [==============================] - 6s 3ms/step - loss: 0.0275 - accuracy: 0.9913 - val_loss: 1.0695 - val_accuracy: 0.9062\n",
            "Epoch 48/50\n",
            "1875/1875 [==============================] - 6s 3ms/step - loss: 0.0244 - accuracy: 0.9923 - val_loss: 1.0818 - val_accuracy: 0.9036\n",
            "Epoch 49/50\n",
            "1875/1875 [==============================] - 6s 3ms/step - loss: 0.0273 - accuracy: 0.9921 - val_loss: 1.1490 - val_accuracy: 0.9051\n",
            "Epoch 50/50\n",
            "1875/1875 [==============================] - 6s 3ms/step - loss: 0.0229 - accuracy: 0.9927 - val_loss: 1.0679 - val_accuracy: 0.9026\n"
          ]
        },
        {
          "output_type": "execute_result",
          "data": {
            "text/plain": [
              "<keras.callbacks.History at 0x7f030a30a910>"
            ]
          },
          "metadata": {},
          "execution_count": 18
        }
      ]
    },
    {
      "cell_type": "code",
      "source": [
        "z = model.predict(xtest)"
      ],
      "metadata": {
        "id": "atfc1VTlxHNm"
      },
      "execution_count": null,
      "outputs": []
    },
    {
      "cell_type": "code",
      "source": [
        "print(np.sum(z.argmax(axis = 1) == ytest.argmax(axis = 1)) / len(ytest) * 100 , '%')"
      ],
      "metadata": {
        "id": "rUuyS6KaxLKj"
      },
      "execution_count": null,
      "outputs": []
    },
    {
      "cell_type": "code",
      "source": [
        "ytest[0].argmax()"
      ],
      "metadata": {
        "id": "H1fT5xx6xYs1"
      },
      "execution_count": null,
      "outputs": []
    },
    {
      "cell_type": "code",
      "source": [
        "z[0].argmax()"
      ],
      "metadata": {
        "id": "iMIMXUhKxjyO"
      },
      "execution_count": null,
      "outputs": []
    },
    {
      "cell_type": "markdown",
      "source": [
        "# CNN image classification"
      ],
      "metadata": {
        "id": "IrIWYcb1zHAf"
      }
    },
    {
      "cell_type": "code",
      "source": [
        "import numpy as np\n",
        "import tensorflow as tf\n",
        "import matplotlib.pyplot as plt"
      ],
      "metadata": {
        "id": "C5YiBemazNvI"
      },
      "execution_count": null,
      "outputs": []
    },
    {
      "cell_type": "code",
      "source": [
        "datasets = tf.keras.datasets.mnist.load_data()\n",
        "(xtrain  , ytrain) , (xtest , ytest) = datasets"
      ],
      "metadata": {
        "id": "f5PAMmgl0m0r"
      },
      "execution_count": null,
      "outputs": []
    },
    {
      "cell_type": "code",
      "source": [
        "plt.imshow(xtrain[0] , cmap = 'gray')\n",
        "plt.show()"
      ],
      "metadata": {
        "id": "9UpAalYL0yE2"
      },
      "execution_count": null,
      "outputs": []
    },
    {
      "cell_type": "code",
      "source": [
        "#normalize\n",
        "xtrain = xtrain / 255.0\n",
        "xtest = xtest / 255.0"
      ],
      "metadata": {
        "id": "gvqilIKt04CN"
      },
      "execution_count": null,
      "outputs": []
    },
    {
      "cell_type": "code",
      "source": [
        "xtrain.shape"
      ],
      "metadata": {
        "id": "zfFEONxBaZV4"
      },
      "execution_count": null,
      "outputs": []
    },
    {
      "cell_type": "code",
      "source": [
        "xtrain = xtrain[ : , : , : , None] ;\n",
        "xtest = xtest[ : , : , : , None]"
      ],
      "metadata": {
        "id": "BEVrTzUmatAh"
      },
      "execution_count": null,
      "outputs": []
    },
    {
      "cell_type": "code",
      "source": [
        "#resize\n",
        "xtrain = tf.image.resize(xtrain , (32 , 32) )\n",
        "xtest = tf.image.resize(xtest ,(32 , 32) )"
      ],
      "metadata": {
        "id": "JXqfVByRZLuw"
      },
      "execution_count": null,
      "outputs": []
    },
    {
      "cell_type": "code",
      "source": [
        "model = tf.keras.Sequential()\n",
        "model.add(tf.keras.layers.Conv2D(16 , (5 , 5) , input_shape = (32 , 32 , 1), activation = 'relu'))\n",
        "model.add(tf.keras.layers.MaxPool2D())\n",
        "model.add(tf.keras.layers.Conv2D(8 , (5 , 5) , activation = 'relu'))\n",
        "model.add(tf.keras.layers.MaxPool2D())\n",
        "model.add(tf.keras.layers.Flatten())\n",
        "model.add(tf.keras.layers.Dense(128 , activation = 'relu'))\n",
        "model.add(tf.keras.layers.Dense(64 , activation  = 'relu'))\n",
        "model.add(tf.keras.layers.Dense(10 , activation  = 'softmax'))\n",
        "model.compile(loss = 'sparse_categorical_crossentropy' , optimizer = 'sgd' , metrics = 'accuracy')\n",
        "#sparse no need to one-hot encoding "
      ],
      "metadata": {
        "id": "bYn4nk7galDa"
      },
      "execution_count": null,
      "outputs": []
    },
    {
      "cell_type": "code",
      "source": [
        "model.summary()"
      ],
      "metadata": {
        "id": "rXyTo6JHa2DU"
      },
      "execution_count": null,
      "outputs": []
    },
    {
      "cell_type": "code",
      "source": [
        "tf.keras.utils.plot_model(model , show_shapes = True)"
      ],
      "metadata": {
        "id": "9HhgVgM4baA_"
      },
      "execution_count": null,
      "outputs": []
    },
    {
      "cell_type": "code",
      "source": [
        "model.fit(xtrain , ytrain , epochs = 50 , validation_data = (xtest, ytest))"
      ],
      "metadata": {
        "id": "3UmUCeapc2kM"
      },
      "execution_count": null,
      "outputs": []
    },
    {
      "cell_type": "code",
      "source": [
        "z = model.predict(xtest)"
      ],
      "metadata": {
        "id": "CLRoi8ZrcndY"
      },
      "execution_count": null,
      "outputs": []
    },
    {
      "cell_type": "code",
      "source": [
        "print(np.sum(z.argmax(axis = 1) == ytest) / len(ytest) * 100 , '%')\n"
      ],
      "metadata": {
        "id": "n9Lx9pKfcv3K"
      },
      "execution_count": null,
      "outputs": []
    },
    {
      "cell_type": "code",
      "source": [
        "z.shape"
      ],
      "metadata": {
        "id": "RQvEr8A1eYTo"
      },
      "execution_count": null,
      "outputs": []
    },
    {
      "cell_type": "code",
      "source": [
        "ytest.shape"
      ],
      "metadata": {
        "id": "TpFfvYFVevMI"
      },
      "execution_count": null,
      "outputs": []
    },
    {
      "cell_type": "markdown",
      "source": [
        "# Fashion Mnist CNN image classification"
      ],
      "metadata": {
        "id": "e_enyvqcUr0Y"
      }
    },
    {
      "cell_type": "code",
      "source": [
        "import numpy as np\n",
        "import tensorflow as tf \n",
        "import matplotlib.pyplot  as plt"
      ],
      "metadata": {
        "id": "0_uNjldLVRpx"
      },
      "execution_count": 1,
      "outputs": []
    },
    {
      "cell_type": "code",
      "source": [
        "datasets = tf.keras.datasets.fashion_mnist.load_data()"
      ],
      "metadata": {
        "id": "LaZTwXKvVX4c"
      },
      "execution_count": 2,
      "outputs": []
    },
    {
      "cell_type": "code",
      "source": [
        "(xtrain , ytrain) , (xtest , ytest) = datasets"
      ],
      "metadata": {
        "id": "p4QtiiDjViCi"
      },
      "execution_count": 3,
      "outputs": []
    },
    {
      "cell_type": "code",
      "source": [
        "plt.imshow(xtrain[0]  , cmap = 'gray')"
      ],
      "metadata": {
        "colab": {
          "base_uri": "https://localhost:8080/",
          "height": 282
        },
        "id": "-VeCvZfNVryr",
        "outputId": "58b017a5-7449-4bee-bcc9-90c6b4900892"
      },
      "execution_count": 4,
      "outputs": [
        {
          "output_type": "execute_result",
          "data": {
            "text/plain": [
              "<matplotlib.image.AxesImage at 0x7f036f358110>"
            ]
          },
          "metadata": {},
          "execution_count": 4
        },
        {
          "output_type": "display_data",
          "data": {
            "text/plain": [
              "<Figure size 432x288 with 1 Axes>"
            ],
            "image/png": "[encoded data removed]"
          },
          "metadata": {
            "needs_background": "light"
          }
        }
      ]
    },
    {
      "cell_type": "code",
      "source": [
        "xtrain = xtrain[ : , : , : , None]\n",
        "xtest = xtest [ : , : , : , None]"
      ],
      "metadata": {
        "id": "tSwjdNhiVxTf"
      },
      "execution_count": 5,
      "outputs": []
    },
    {
      "cell_type": "code",
      "source": [
        "xtrain = xtrain / 255.0\n",
        "xtest = xtest / 255.0"
      ],
      "metadata": {
        "id": "8g5EFLiOV_EX"
      },
      "execution_count": 6,
      "outputs": []
    },
    {
      "cell_type": "code",
      "source": [
        "print(xtrain.shape , xtest.shape)"
      ],
      "metadata": {
        "colab": {
          "base_uri": "https://localhost:8080/"
        },
        "id": "IvuUDP0MWD2C",
        "outputId": "c8edd178-6886-42a2-af03-c64fe0b795c3"
      },
      "execution_count": 7,
      "outputs": [
        {
          "output_type": "stream",
          "name": "stdout",
          "text": [
            "(60000, 28, 28, 1) (10000, 28, 28, 1)\n"
          ]
        }
      ]
    },
    {
      "cell_type": "code",
      "source": [
        "model  = tf.keras.Sequential()\n",
        "model.add(tf.keras.layers.Conv2D(16 , (5 , 5) , input_shape = (28 , 28 , 1) , activation = 'relu'  , padding = 'same') )\n",
        "model.add(tf.keras.layers.MaxPool2D())\n",
        "model.add(tf.keras.layers.Conv2D(8 , (5 , 5) , input_shape = (28 , 28 , 1) , activation = 'relu'  , padding = 'same') )\n",
        "model.add(tf.keras.layers.MaxPool2D())\n",
        "model.add(tf.keras.layers.Flatten())\n",
        "model.add(tf.keras.layers.Dense(128 , activation = 'relu'))\n",
        "model.add(tf.keras.layers.Dense(64 , activation = 'relu'))\n",
        "model.add(tf.keras.layers.Dense(10 , activation = 'softmax'))\n",
        "model.compile(loss = 'sparse_categorical_crossentropy' , optimizer = 'adam' , metrics = 'accuracy')"
      ],
      "metadata": {
        "id": "m5RFzGfkWOqU"
      },
      "execution_count": 13,
      "outputs": []
    },
    {
      "cell_type": "code",
      "source": [
        "model.summary()"
      ],
      "metadata": {
        "colab": {
          "base_uri": "https://localhost:8080/"
        },
        "id": "5Jx-EH1AWZAb",
        "outputId": "4fc8c310-103d-4703-ee69-2d033e2c7ad4"
      },
      "execution_count": 14,
      "outputs": [
        {
          "output_type": "stream",
          "name": "stdout",
          "text": [
            "Model: \"sequential_1\"\n",
            "_________________________________________________________________\n",
            " Layer (type)                Output Shape              Param #   \n",
            "=================================================================\n",
            " conv2d_2 (Conv2D)           (None, 28, 28, 16)        416       \n",
            "                                                                 \n",
            " max_pooling2d_2 (MaxPooling  (None, 14, 14, 16)       0         \n",
            " 2D)                                                             \n",
            "                                                                 \n",
            " conv2d_3 (Conv2D)           (None, 14, 14, 8)         3208      \n",
            "                                                                 \n",
            " max_pooling2d_3 (MaxPooling  (None, 7, 7, 8)          0         \n",
            " 2D)                                                             \n",
            "                                                                 \n",
            " flatten_1 (Flatten)         (None, 392)               0         \n",
            "                                                                 \n",
            " dense_3 (Dense)             (None, 128)               50304     \n",
            "                                                                 \n",
            " dense_4 (Dense)             (None, 64)                8256      \n",
            "                                                                 \n",
            " dense_5 (Dense)             (None, 10)                650       \n",
            "                                                                 \n",
            "=================================================================\n",
            "Total params: 62,834\n",
            "Trainable params: 62,834\n",
            "Non-trainable params: 0\n",
            "_________________________________________________________________\n"
          ]
        }
      ]
    },
    {
      "cell_type": "code",
      "source": [
        "model.fit(xtrain, ytrain , epochs = 50 , validation_data = (xtest , ytest))"
      ],
      "metadata": {
        "colab": {
          "base_uri": "https://localhost:8080/"
        },
        "id": "yma-IDahWx8s",
        "outputId": "77b90a6a-509b-45de-a198-05b7fac64a78"
      },
      "execution_count": 15,
      "outputs": [
        {
          "output_type": "stream",
          "name": "stdout",
          "text": [
            "Epoch 1/50\n",
            "1875/1875 [==============================] - 7s 3ms/step - loss: 0.4996 - accuracy: 0.8190 - val_loss: 0.4164 - val_accuracy: 0.8464\n",
            "Epoch 2/50\n",
            "1875/1875 [==============================] - 7s 4ms/step - loss: 0.3295 - accuracy: 0.8787 - val_loss: 0.3159 - val_accuracy: 0.8828\n",
            "Epoch 3/50\n",
            "1875/1875 [==============================] - 7s 4ms/step - loss: 0.2844 - accuracy: 0.8953 - val_loss: 0.3051 - val_accuracy: 0.8853\n",
            "Epoch 4/50\n",
            "1875/1875 [==============================] - 7s 4ms/step - loss: 0.2579 - accuracy: 0.9036 - val_loss: 0.3054 - val_accuracy: 0.8870\n",
            "Epoch 5/50\n",
            "1875/1875 [==============================] - 6s 3ms/step - loss: 0.2361 - accuracy: 0.9123 - val_loss: 0.2965 - val_accuracy: 0.8965\n",
            "Epoch 6/50\n",
            "1875/1875 [==============================] - 6s 3ms/step - loss: 0.2183 - accuracy: 0.9191 - val_loss: 0.2700 - val_accuracy: 0.9016\n",
            "Epoch 7/50\n",
            "1875/1875 [==============================] - 7s 4ms/step - loss: 0.2033 - accuracy: 0.9230 - val_loss: 0.2739 - val_accuracy: 0.9000\n",
            "Epoch 8/50\n",
            "1875/1875 [==============================] - 7s 4ms/step - loss: 0.1906 - accuracy: 0.9281 - val_loss: 0.2874 - val_accuracy: 0.8951\n",
            "Epoch 9/50\n",
            "1875/1875 [==============================] - 7s 4ms/step - loss: 0.1803 - accuracy: 0.9312 - val_loss: 0.2633 - val_accuracy: 0.9037\n",
            "Epoch 10/50\n",
            "1875/1875 [==============================] - 6s 3ms/step - loss: 0.1683 - accuracy: 0.9365 - val_loss: 0.2675 - val_accuracy: 0.9056\n",
            "Epoch 11/50\n",
            "1875/1875 [==============================] - 7s 4ms/step - loss: 0.1587 - accuracy: 0.9391 - val_loss: 0.2730 - val_accuracy: 0.9102\n",
            "Epoch 12/50\n",
            "1875/1875 [==============================] - 6s 3ms/step - loss: 0.1478 - accuracy: 0.9448 - val_loss: 0.2660 - val_accuracy: 0.9087\n",
            "Epoch 13/50\n",
            "1875/1875 [==============================] - 6s 3ms/step - loss: 0.1409 - accuracy: 0.9468 - val_loss: 0.2826 - val_accuracy: 0.9080\n",
            "Epoch 14/50\n",
            "1875/1875 [==============================] - 6s 3ms/step - loss: 0.1316 - accuracy: 0.9498 - val_loss: 0.2913 - val_accuracy: 0.9087\n",
            "Epoch 15/50\n",
            "1875/1875 [==============================] - 8s 4ms/step - loss: 0.1256 - accuracy: 0.9528 - val_loss: 0.3163 - val_accuracy: 0.9019\n",
            "Epoch 16/50\n",
            "1875/1875 [==============================] - 6s 3ms/step - loss: 0.1174 - accuracy: 0.9551 - val_loss: 0.2948 - val_accuracy: 0.9095\n",
            "Epoch 17/50\n",
            "1875/1875 [==============================] - 6s 3ms/step - loss: 0.1102 - accuracy: 0.9579 - val_loss: 0.3353 - val_accuracy: 0.9060\n",
            "Epoch 18/50\n",
            "1875/1875 [==============================] - 7s 4ms/step - loss: 0.1051 - accuracy: 0.9593 - val_loss: 0.3468 - val_accuracy: 0.9053\n",
            "Epoch 19/50\n",
            "1875/1875 [==============================] - 7s 4ms/step - loss: 0.0978 - accuracy: 0.9631 - val_loss: 0.3553 - val_accuracy: 0.9093\n",
            "Epoch 20/50\n",
            "1875/1875 [==============================] - 7s 4ms/step - loss: 0.0943 - accuracy: 0.9639 - val_loss: 0.3614 - val_accuracy: 0.9082\n",
            "Epoch 21/50\n",
            "1875/1875 [==============================] - 7s 4ms/step - loss: 0.0894 - accuracy: 0.9659 - val_loss: 0.3969 - val_accuracy: 0.9053\n",
            "Epoch 22/50\n",
            "1875/1875 [==============================] - 7s 4ms/step - loss: 0.0841 - accuracy: 0.9683 - val_loss: 0.3999 - val_accuracy: 0.9092\n",
            "Epoch 23/50\n",
            "1875/1875 [==============================] - 6s 3ms/step - loss: 0.0822 - accuracy: 0.9680 - val_loss: 0.3933 - val_accuracy: 0.9052\n",
            "Epoch 24/50\n",
            "1875/1875 [==============================] - 6s 3ms/step - loss: 0.0751 - accuracy: 0.9717 - val_loss: 0.4023 - val_accuracy: 0.9059\n",
            "Epoch 25/50\n",
            "1875/1875 [==============================] - 6s 3ms/step - loss: 0.0743 - accuracy: 0.9726 - val_loss: 0.4091 - val_accuracy: 0.9050\n",
            "Epoch 26/50\n",
            "1875/1875 [==============================] - 6s 3ms/step - loss: 0.0711 - accuracy: 0.9734 - val_loss: 0.4550 - val_accuracy: 0.9032\n",
            "Epoch 27/50\n",
            "1875/1875 [==============================] - 7s 4ms/step - loss: 0.0647 - accuracy: 0.9759 - val_loss: 0.4798 - val_accuracy: 0.8996\n",
            "Epoch 28/50\n",
            "1875/1875 [==============================] - 7s 4ms/step - loss: 0.0656 - accuracy: 0.9755 - val_loss: 0.5137 - val_accuracy: 0.9024\n",
            "Epoch 29/50\n",
            "1875/1875 [==============================] - 6s 3ms/step - loss: 0.0624 - accuracy: 0.9761 - val_loss: 0.4792 - val_accuracy: 0.9052\n",
            "Epoch 30/50\n",
            "1875/1875 [==============================] - 6s 3ms/step - loss: 0.0597 - accuracy: 0.9772 - val_loss: 0.4859 - val_accuracy: 0.9051\n",
            "Epoch 31/50\n",
            "1875/1875 [==============================] - 7s 4ms/step - loss: 0.0577 - accuracy: 0.9782 - val_loss: 0.4964 - val_accuracy: 0.9079\n",
            "Epoch 32/50\n",
            "1875/1875 [==============================] - 7s 4ms/step - loss: 0.0526 - accuracy: 0.9804 - val_loss: 0.5115 - val_accuracy: 0.9042\n",
            "Epoch 33/50\n",
            "1875/1875 [==============================] - 7s 4ms/step - loss: 0.0530 - accuracy: 0.9805 - val_loss: 0.5633 - val_accuracy: 0.9023\n",
            "Epoch 34/50\n",
            "1875/1875 [==============================] - 7s 4ms/step - loss: 0.0530 - accuracy: 0.9808 - val_loss: 0.5619 - val_accuracy: 0.9059\n",
            "Epoch 35/50\n",
            "1875/1875 [==============================] - 6s 3ms/step - loss: 0.0484 - accuracy: 0.9822 - val_loss: 0.5747 - val_accuracy: 0.9016\n",
            "Epoch 36/50\n",
            "1875/1875 [==============================] - 7s 4ms/step - loss: 0.0523 - accuracy: 0.9804 - val_loss: 0.5837 - val_accuracy: 0.9049\n",
            "Epoch 37/50\n",
            "1875/1875 [==============================] - 7s 4ms/step - loss: 0.0475 - accuracy: 0.9823 - val_loss: 0.6106 - val_accuracy: 0.9016\n",
            "Epoch 38/50\n",
            "1875/1875 [==============================] - 6s 3ms/step - loss: 0.0484 - accuracy: 0.9822 - val_loss: 0.6342 - val_accuracy: 0.9032\n",
            "Epoch 39/50\n",
            "1875/1875 [==============================] - 6s 3ms/step - loss: 0.0449 - accuracy: 0.9835 - val_loss: 0.6123 - val_accuracy: 0.9036\n",
            "Epoch 40/50\n",
            "1875/1875 [==============================] - 7s 4ms/step - loss: 0.0476 - accuracy: 0.9830 - val_loss: 0.6176 - val_accuracy: 0.9045\n",
            "Epoch 41/50\n",
            "1875/1875 [==============================] - 6s 3ms/step - loss: 0.0416 - accuracy: 0.9855 - val_loss: 0.6721 - val_accuracy: 0.9045\n",
            "Epoch 42/50\n",
            "1875/1875 [==============================] - 6s 3ms/step - loss: 0.0468 - accuracy: 0.9830 - val_loss: 0.6551 - val_accuracy: 0.9050\n",
            "Epoch 43/50\n",
            "1875/1875 [==============================] - 6s 3ms/step - loss: 0.0428 - accuracy: 0.9842 - val_loss: 0.6533 - val_accuracy: 0.9062\n",
            "Epoch 44/50\n",
            "1875/1875 [==============================] - 8s 4ms/step - loss: 0.0409 - accuracy: 0.9852 - val_loss: 0.6841 - val_accuracy: 0.9045\n",
            "Epoch 45/50\n",
            "1875/1875 [==============================] - 6s 3ms/step - loss: 0.0423 - accuracy: 0.9845 - val_loss: 0.6606 - val_accuracy: 0.9021\n",
            "Epoch 46/50\n",
            "1875/1875 [==============================] - 6s 3ms/step - loss: 0.0411 - accuracy: 0.9858 - val_loss: 0.7032 - val_accuracy: 0.8970\n",
            "Epoch 47/50\n",
            "1875/1875 [==============================] - 7s 4ms/step - loss: 0.0388 - accuracy: 0.9862 - val_loss: 0.6758 - val_accuracy: 0.9037\n",
            "Epoch 48/50\n",
            "1875/1875 [==============================] - 7s 4ms/step - loss: 0.0345 - accuracy: 0.9874 - val_loss: 0.7068 - val_accuracy: 0.9026\n",
            "Epoch 49/50\n",
            "1875/1875 [==============================] - 6s 3ms/step - loss: 0.0381 - accuracy: 0.9862 - val_loss: 0.6958 - val_accuracy: 0.9034\n",
            "Epoch 50/50\n",
            "1875/1875 [==============================] - 6s 3ms/step - loss: 0.0368 - accuracy: 0.9869 - val_loss: 0.7040 - val_accuracy: 0.9058\n"
          ]
        },
        {
          "output_type": "execute_result",
          "data": {
            "text/plain": [
              "<keras.callbacks.History at 0x7f030a4e5350>"
            ]
          },
          "metadata": {},
          "execution_count": 15
        }
      ]
    },
    {
      "cell_type": "code",
      "source": [
        "z = model.predict(xtest)"
      ],
      "metadata": {
        "colab": {
          "base_uri": "https://localhost:8080/"
        },
        "id": "N4HbskAFX4Ci",
        "outputId": "bba6ac54-a636-424c-da46-0cd4075ba4a4"
      },
      "execution_count": 16,
      "outputs": [
        {
          "output_type": "stream",
          "name": "stdout",
          "text": [
            "313/313 [==============================] - 1s 2ms/step\n"
          ]
        }
      ]
    },
    {
      "cell_type": "code",
      "source": [
        "print(np.sum(z.argmax(axis = 1) == ytest) / len(ytest) * 100 , '%')"
      ],
      "metadata": {
        "colab": {
          "base_uri": "https://localhost:8080/"
        },
        "id": "qi1uy7n4X8wD",
        "outputId": "940b4e97-f6d8-4844-e249-11f7f2bec3f3"
      },
      "execution_count": 17,
      "outputs": [
        {
          "output_type": "stream",
          "name": "stdout",
          "text": [
            "90.58 %\n"
          ]
        }
      ]
    }
  ]
}