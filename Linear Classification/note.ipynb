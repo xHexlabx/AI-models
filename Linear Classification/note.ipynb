{
 "cells": [
  {
   "cell_type": "code",
   "execution_count": null,
   "metadata": {},
   "outputs": [],
   "source": []
  }
 ],
 "metadata": {
  "kernelspec": {
   "display_name": "Python 3.8.5 32-bit",
   "language": "python",
   "name": "python3"
  },
  "language_info": {
   "name": "python",
   "version": "3.8.5"
  },
  "orig_nbformat": 4,
  "vscode": {
   "interpreter": {
    "hash": "cd99a4d7e877200536bccf12cb8d4130018d1bc642a8f2ff1f8aaeb9719e94f6"
   }
  }
 },
 "nbformat": 4,
 "nbformat_minor": 2
}
