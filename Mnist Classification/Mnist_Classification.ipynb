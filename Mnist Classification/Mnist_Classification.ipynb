{
  "nbformat": 4,
  "nbformat_minor": 0,
  "metadata": {
    "colab": {
      "provenance": [],
      "authorship_tag": "ABX9TyNvYjjoX9ulq0YbSkTCpd9x",
      "include_colab_link": true
    },
    "kernelspec": {
      "name": "python3",
      "display_name": "Python 3"
    },
    "language_info": {
      "name": "python"
    },
    "accelerator": "GPU",
    "gpuClass": "standard"
  },
  "cells": [
    {
      "cell_type": "markdown",
      "metadata": {
        "id": "view-in-github",
        "colab_type": "text"
      },
      "source": [
        "<a href=\"https://colab.research.google.com/github/xHexlabx/AI-models/blob/main/Mnist%20Classification/Mnist_Classification.ipynb\" target=\"_parent\"><img src=\"https://colab.research.google.com/assets/colab-badge.svg\" alt=\"Open In Colab\"/></a>"
      ]
    },
    {
      "cell_type": "markdown",
      "source": [
        "# MLP image classification\n"
      ],
      "metadata": {
        "id": "lXiC1_ZnjXqt"
      }
    },
    {
      "cell_type": "code",
      "execution_count": 22,
      "metadata": {
        "id": "wfEaZUJWBdr8"
      },
      "outputs": [],
      "source": [
        "import numpy as np\n",
        "import tensorflow as tf\n",
        "import matplotlib.pyplot as plt"
      ]
    },
    {
      "cell_type": "code",
      "source": [
        "datasets = tf.keras.datasets.mnist.load_data()"
      ],
      "metadata": {
        "id": "IihfD8R3Cbuk",
        "colab": {
          "base_uri": "https://localhost:8080/"
        },
        "outputId": "7b644470-c1cd-44a0-a5a4-5e71abafea00"
      },
      "execution_count": 2,
      "outputs": [
        {
          "output_type": "stream",
          "name": "stdout",
          "text": [
            "Downloading data from https://storage.googleapis.com/tensorflow/tf-keras-datasets/mnist.npz\n",
            "11490434/11490434 [==============================] - 2s 0us/step\n"
          ]
        }
      ]
    },
    {
      "cell_type": "code",
      "source": [
        "(xtrain , ytrain) , (xtest , ytest) = datasets"
      ],
      "metadata": {
        "id": "O9VWyC6BjBcC"
      },
      "execution_count": 3,
      "outputs": []
    },
    {
      "cell_type": "code",
      "source": [
        "print(xtrain.shape , ytrain.shape , xtest.shape , ytest.shape)"
      ],
      "metadata": {
        "colab": {
          "base_uri": "https://localhost:8080/"
        },
        "id": "omatFdyNkH8I",
        "outputId": "e9579575-4539-4555-ad26-5404d3015494"
      },
      "execution_count": 4,
      "outputs": [
        {
          "output_type": "stream",
          "name": "stdout",
          "text": [
            "(60000, 28, 28) (60000,) (10000, 28, 28) (10000,)\n"
          ]
        }
      ]
    },
    {
      "cell_type": "code",
      "source": [
        "ytrain[0]"
      ],
      "metadata": {
        "colab": {
          "base_uri": "https://localhost:8080/"
        },
        "id": "DU0uXokot3Fc",
        "outputId": "c42c8dd2-2ae0-47f4-8e69-beb507d6e2a6"
      },
      "execution_count": 5,
      "outputs": [
        {
          "output_type": "execute_result",
          "data": {
            "text/plain": [
              "5"
            ]
          },
          "metadata": {},
          "execution_count": 5
        }
      ]
    },
    {
      "cell_type": "code",
      "source": [
        "xtrain = xtrain.reshape([-1 , 28 * 28])\n",
        "xtest  = xtest.reshape(-1 , 28 * 28)"
      ],
      "metadata": {
        "id": "323gfkm8kbSV"
      },
      "execution_count": 6,
      "outputs": []
    },
    {
      "cell_type": "code",
      "source": [
        "#normalize\n",
        "xtrain = xtrain / 255.0\n",
        "xtest = xtest / 255.0"
      ],
      "metadata": {
        "id": "bfaoYk2hqxhp"
      },
      "execution_count": 7,
      "outputs": []
    },
    {
      "cell_type": "code",
      "source": [
        "#one-hot encoding \n",
        "ytrain = tf.keras.utils.to_categorical(ytrain , num_classes = 10 , dtype = 'float32')\n",
        "ytest = tf.keras.utils.to_categorical(ytest , num_classes= 10 , dtype = 'float32')"
      ],
      "metadata": {
        "id": "iA94kAjTr2J6"
      },
      "execution_count": 8,
      "outputs": []
    },
    {
      "cell_type": "code",
      "source": [
        "print(xtrain.shape , ytrain.shape , xtest.shape , ytest.shape)"
      ],
      "metadata": {
        "colab": {
          "base_uri": "https://localhost:8080/"
        },
        "id": "2gDE3vGqtYHQ",
        "outputId": "8195409b-e8ed-461f-a393-042f15080170"
      },
      "execution_count": 9,
      "outputs": [
        {
          "output_type": "stream",
          "name": "stdout",
          "text": [
            "(60000, 784) (60000, 10) (10000, 784) (10000, 10)\n"
          ]
        }
      ]
    },
    {
      "cell_type": "code",
      "source": [
        "model = tf.keras.Sequential()\n",
        "model.add(tf.keras.layers.Dense(256 , input_shape = (28 * 28 , ) , activation = 'relu'))\n",
        "model.add(tf.keras.layers.Dense(256 , activation = 'relu'))\n",
        "model.add(tf.keras.layers.Dense(10 , activation = 'softmax'))\n",
        "model.compile(loss = 'mse' , optimizer = 'sgd' , metrics = 'accuracy')\n",
        "model.summary()"
      ],
      "metadata": {
        "id": "5oEStwEUsMdt",
        "colab": {
          "base_uri": "https://localhost:8080/"
        },
        "outputId": "daeed070-9755-432c-fa95-15d99d8955db"
      },
      "execution_count": 13,
      "outputs": [
        {
          "output_type": "stream",
          "name": "stdout",
          "text": [
            "Model: \"sequential_2\"\n",
            "_________________________________________________________________\n",
            " Layer (type)                Output Shape              Param #   \n",
            "=================================================================\n",
            " dense_6 (Dense)             (None, 256)               200960    \n",
            "                                                                 \n",
            " dense_7 (Dense)             (None, 256)               65792     \n",
            "                                                                 \n",
            " dense_8 (Dense)             (None, 10)                2570      \n",
            "                                                                 \n",
            "=================================================================\n",
            "Total params: 269,322\n",
            "Trainable params: 269,322\n",
            "Non-trainable params: 0\n",
            "_________________________________________________________________\n"
          ]
        }
      ]
    },
    {
      "cell_type": "code",
      "source": [
        "model.fit(xtrain , ytrain , epochs = 50 , validation_data = (xtest , ytest))"
      ],
      "metadata": {
        "colab": {
          "base_uri": "https://localhost:8080/"
        },
        "id": "bEFKsRnitFRJ",
        "outputId": "b935ffb0-4d28-44db-e853-ff4dd741ade5"
      },
      "execution_count": 14,
      "outputs": [
        {
          "output_type": "stream",
          "name": "stdout",
          "text": [
            "Epoch 1/50\n",
            "1875/1875 [==============================] - 5s 3ms/step - loss: 0.0886 - accuracy: 0.1863 - val_loss: 0.0853 - val_accuracy: 0.2898\n",
            "Epoch 2/50\n",
            "1875/1875 [==============================] - 5s 3ms/step - loss: 0.0813 - accuracy: 0.3834 - val_loss: 0.0760 - val_accuracy: 0.5141\n",
            "Epoch 3/50\n",
            "1875/1875 [==============================] - 5s 3ms/step - loss: 0.0701 - accuracy: 0.6288 - val_loss: 0.0624 - val_accuracy: 0.7198\n",
            "Epoch 4/50\n",
            "1875/1875 [==============================] - 5s 3ms/step - loss: 0.0551 - accuracy: 0.7467 - val_loss: 0.0463 - val_accuracy: 0.7890\n",
            "Epoch 5/50\n",
            "1875/1875 [==============================] - 5s 3ms/step - loss: 0.0408 - accuracy: 0.8081 - val_loss: 0.0343 - val_accuracy: 0.8365\n",
            "Epoch 6/50\n",
            "1875/1875 [==============================] - 5s 3ms/step - loss: 0.0319 - accuracy: 0.8393 - val_loss: 0.0277 - val_accuracy: 0.8555\n",
            "Epoch 7/50\n",
            "1875/1875 [==============================] - 5s 3ms/step - loss: 0.0268 - accuracy: 0.8571 - val_loss: 0.0238 - val_accuracy: 0.8692\n",
            "Epoch 8/50\n",
            "1875/1875 [==============================] - 5s 3ms/step - loss: 0.0237 - accuracy: 0.8698 - val_loss: 0.0213 - val_accuracy: 0.8795\n",
            "Epoch 9/50\n",
            "1875/1875 [==============================] - 5s 3ms/step - loss: 0.0215 - accuracy: 0.8791 - val_loss: 0.0195 - val_accuracy: 0.8867\n",
            "Epoch 10/50\n",
            "1875/1875 [==============================] - 5s 3ms/step - loss: 0.0200 - accuracy: 0.8849 - val_loss: 0.0183 - val_accuracy: 0.8917\n",
            "Epoch 11/50\n",
            "1875/1875 [==============================] - 5s 3ms/step - loss: 0.0188 - accuracy: 0.8899 - val_loss: 0.0173 - val_accuracy: 0.8985\n",
            "Epoch 12/50\n",
            "1875/1875 [==============================] - 5s 3ms/step - loss: 0.0179 - accuracy: 0.8939 - val_loss: 0.0165 - val_accuracy: 0.9005\n",
            "Epoch 13/50\n",
            "1875/1875 [==============================] - 5s 3ms/step - loss: 0.0172 - accuracy: 0.8973 - val_loss: 0.0159 - val_accuracy: 0.9043\n",
            "Epoch 14/50\n",
            "1875/1875 [==============================] - 5s 3ms/step - loss: 0.0165 - accuracy: 0.8996 - val_loss: 0.0154 - val_accuracy: 0.9069\n",
            "Epoch 15/50\n",
            "1875/1875 [==============================] - 5s 3ms/step - loss: 0.0160 - accuracy: 0.9017 - val_loss: 0.0149 - val_accuracy: 0.9092\n",
            "Epoch 16/50\n",
            "1875/1875 [==============================] - 5s 3ms/step - loss: 0.0156 - accuracy: 0.9041 - val_loss: 0.0145 - val_accuracy: 0.9116\n",
            "Epoch 17/50\n",
            "1875/1875 [==============================] - 5s 3ms/step - loss: 0.0152 - accuracy: 0.9061 - val_loss: 0.0142 - val_accuracy: 0.9126\n",
            "Epoch 18/50\n",
            "1875/1875 [==============================] - 6s 3ms/step - loss: 0.0148 - accuracy: 0.9081 - val_loss: 0.0138 - val_accuracy: 0.9149\n",
            "Epoch 19/50\n",
            "1875/1875 [==============================] - 5s 3ms/step - loss: 0.0145 - accuracy: 0.9099 - val_loss: 0.0136 - val_accuracy: 0.9164\n",
            "Epoch 20/50\n",
            "1875/1875 [==============================] - 5s 3ms/step - loss: 0.0142 - accuracy: 0.9115 - val_loss: 0.0133 - val_accuracy: 0.9185\n",
            "Epoch 21/50\n",
            "1875/1875 [==============================] - 5s 3ms/step - loss: 0.0139 - accuracy: 0.9128 - val_loss: 0.0131 - val_accuracy: 0.9189\n",
            "Epoch 22/50\n",
            "1875/1875 [==============================] - 5s 3ms/step - loss: 0.0137 - accuracy: 0.9143 - val_loss: 0.0129 - val_accuracy: 0.9217\n",
            "Epoch 23/50\n",
            "1875/1875 [==============================] - 5s 3ms/step - loss: 0.0135 - accuracy: 0.9154 - val_loss: 0.0127 - val_accuracy: 0.9211\n",
            "Epoch 24/50\n",
            "1875/1875 [==============================] - 5s 3ms/step - loss: 0.0133 - accuracy: 0.9170 - val_loss: 0.0125 - val_accuracy: 0.9230\n",
            "Epoch 25/50\n",
            "1875/1875 [==============================] - 5s 3ms/step - loss: 0.0131 - accuracy: 0.9178 - val_loss: 0.0123 - val_accuracy: 0.9243\n",
            "Epoch 26/50\n",
            "1875/1875 [==============================] - 5s 3ms/step - loss: 0.0129 - accuracy: 0.9186 - val_loss: 0.0122 - val_accuracy: 0.9251\n",
            "Epoch 27/50\n",
            "1875/1875 [==============================] - 5s 3ms/step - loss: 0.0127 - accuracy: 0.9201 - val_loss: 0.0120 - val_accuracy: 0.9254\n",
            "Epoch 28/50\n",
            "1875/1875 [==============================] - 5s 3ms/step - loss: 0.0125 - accuracy: 0.9210 - val_loss: 0.0119 - val_accuracy: 0.9263\n",
            "Epoch 29/50\n",
            "1875/1875 [==============================] - 5s 3ms/step - loss: 0.0124 - accuracy: 0.9218 - val_loss: 0.0118 - val_accuracy: 0.9267\n",
            "Epoch 30/50\n",
            "1875/1875 [==============================] - 5s 3ms/step - loss: 0.0122 - accuracy: 0.9226 - val_loss: 0.0116 - val_accuracy: 0.9272\n",
            "Epoch 31/50\n",
            "1875/1875 [==============================] - 5s 3ms/step - loss: 0.0121 - accuracy: 0.9241 - val_loss: 0.0115 - val_accuracy: 0.9283\n",
            "Epoch 32/50\n",
            "1875/1875 [==============================] - 5s 3ms/step - loss: 0.0119 - accuracy: 0.9248 - val_loss: 0.0114 - val_accuracy: 0.9291\n",
            "Epoch 33/50\n",
            "1875/1875 [==============================] - 5s 3ms/step - loss: 0.0118 - accuracy: 0.9254 - val_loss: 0.0112 - val_accuracy: 0.9307\n",
            "Epoch 34/50\n",
            "1875/1875 [==============================] - 5s 3ms/step - loss: 0.0117 - accuracy: 0.9265 - val_loss: 0.0111 - val_accuracy: 0.9309\n",
            "Epoch 35/50\n",
            "1875/1875 [==============================] - 5s 3ms/step - loss: 0.0115 - accuracy: 0.9276 - val_loss: 0.0110 - val_accuracy: 0.9307\n",
            "Epoch 36/50\n",
            "1875/1875 [==============================] - 5s 3ms/step - loss: 0.0114 - accuracy: 0.9281 - val_loss: 0.0109 - val_accuracy: 0.9313\n",
            "Epoch 37/50\n",
            "1875/1875 [==============================] - 5s 3ms/step - loss: 0.0113 - accuracy: 0.9287 - val_loss: 0.0109 - val_accuracy: 0.9324\n",
            "Epoch 38/50\n",
            "1875/1875 [==============================] - 5s 3ms/step - loss: 0.0112 - accuracy: 0.9293 - val_loss: 0.0108 - val_accuracy: 0.9327\n",
            "Epoch 39/50\n",
            "1875/1875 [==============================] - 5s 3ms/step - loss: 0.0111 - accuracy: 0.9305 - val_loss: 0.0107 - val_accuracy: 0.9332\n",
            "Epoch 40/50\n",
            "1875/1875 [==============================] - 5s 3ms/step - loss: 0.0110 - accuracy: 0.9310 - val_loss: 0.0106 - val_accuracy: 0.9348\n",
            "Epoch 41/50\n",
            "1875/1875 [==============================] - 5s 3ms/step - loss: 0.0109 - accuracy: 0.9315 - val_loss: 0.0105 - val_accuracy: 0.9351\n",
            "Epoch 42/50\n",
            "1875/1875 [==============================] - 5s 3ms/step - loss: 0.0108 - accuracy: 0.9325 - val_loss: 0.0104 - val_accuracy: 0.9355\n",
            "Epoch 43/50\n",
            "1875/1875 [==============================] - 5s 3ms/step - loss: 0.0107 - accuracy: 0.9327 - val_loss: 0.0104 - val_accuracy: 0.9353\n",
            "Epoch 44/50\n",
            "1875/1875 [==============================] - 5s 3ms/step - loss: 0.0106 - accuracy: 0.9334 - val_loss: 0.0103 - val_accuracy: 0.9368\n",
            "Epoch 45/50\n",
            "1875/1875 [==============================] - 5s 3ms/step - loss: 0.0105 - accuracy: 0.9337 - val_loss: 0.0102 - val_accuracy: 0.9361\n",
            "Epoch 46/50\n",
            "1875/1875 [==============================] - 5s 3ms/step - loss: 0.0104 - accuracy: 0.9343 - val_loss: 0.0101 - val_accuracy: 0.9368\n",
            "Epoch 47/50\n",
            "1875/1875 [==============================] - 5s 3ms/step - loss: 0.0103 - accuracy: 0.9348 - val_loss: 0.0100 - val_accuracy: 0.9370\n",
            "Epoch 48/50\n",
            "1875/1875 [==============================] - 5s 3ms/step - loss: 0.0102 - accuracy: 0.9358 - val_loss: 0.0100 - val_accuracy: 0.9370\n",
            "Epoch 49/50\n",
            "1875/1875 [==============================] - 5s 3ms/step - loss: 0.0102 - accuracy: 0.9359 - val_loss: 0.0099 - val_accuracy: 0.9380\n",
            "Epoch 50/50\n",
            "1875/1875 [==============================] - 5s 3ms/step - loss: 0.0101 - accuracy: 0.9366 - val_loss: 0.0098 - val_accuracy: 0.9379\n"
          ]
        },
        {
          "output_type": "execute_result",
          "data": {
            "text/plain": [
              "<keras.callbacks.History at 0x7fac1308ca90>"
            ]
          },
          "metadata": {},
          "execution_count": 14
        }
      ]
    },
    {
      "cell_type": "code",
      "source": [
        "z = model.predict(xtest)"
      ],
      "metadata": {
        "colab": {
          "base_uri": "https://localhost:8080/"
        },
        "id": "atfc1VTlxHNm",
        "outputId": "c9e276fb-1813-405a-b072-a3f538dff407"
      },
      "execution_count": 17,
      "outputs": [
        {
          "output_type": "stream",
          "name": "stdout",
          "text": [
            "313/313 [==============================] - 1s 2ms/step\n"
          ]
        }
      ]
    },
    {
      "cell_type": "code",
      "source": [
        "print(np.sum(z.argmax(axis = 1) == ytest.argmax(axis = 1)) / len(ytest) * 100 , '%')"
      ],
      "metadata": {
        "colab": {
          "base_uri": "https://localhost:8080/"
        },
        "id": "rUuyS6KaxLKj",
        "outputId": "3c7431bc-09be-4171-ab22-281046748d05"
      },
      "execution_count": 19,
      "outputs": [
        {
          "output_type": "stream",
          "name": "stdout",
          "text": [
            "93.78999999999999 %\n"
          ]
        }
      ]
    },
    {
      "cell_type": "code",
      "source": [
        "ytest[0].argmax()"
      ],
      "metadata": {
        "colab": {
          "base_uri": "https://localhost:8080/"
        },
        "id": "H1fT5xx6xYs1",
        "outputId": "0e28a540-36ec-40f4-9265-de101898aef8"
      },
      "execution_count": 24,
      "outputs": [
        {
          "output_type": "execute_result",
          "data": {
            "text/plain": [
              "7"
            ]
          },
          "metadata": {},
          "execution_count": 24
        }
      ]
    },
    {
      "cell_type": "code",
      "source": [
        "z[0].argmax()"
      ],
      "metadata": {
        "colab": {
          "base_uri": "https://localhost:8080/"
        },
        "id": "iMIMXUhKxjyO",
        "outputId": "96a48b04-fd90-4b2d-bb3e-6de8f6a30410"
      },
      "execution_count": 28,
      "outputs": [
        {
          "output_type": "execute_result",
          "data": {
            "text/plain": [
              "7"
            ]
          },
          "metadata": {},
          "execution_count": 28
        }
      ]
    },
    {
      "cell_type": "markdown",
      "source": [
        "# CNN image classification"
      ],
      "metadata": {
        "id": "IrIWYcb1zHAf"
      }
    },
    {
      "cell_type": "code",
      "source": [
        "import numpy as np\n",
        "import tensorflow as tf\n",
        "import matplotlib.pyplot as plt"
      ],
      "metadata": {
        "id": "C5YiBemazNvI"
      },
      "execution_count": 11,
      "outputs": []
    },
    {
      "cell_type": "code",
      "source": [
        "datasets = tf.keras.datasets.mnist.load_data()\n",
        "(xtrain  , ytrain) , (xtest , ytest) = datasets"
      ],
      "metadata": {
        "id": "f5PAMmgl0m0r"
      },
      "execution_count": 22,
      "outputs": []
    },
    {
      "cell_type": "code",
      "source": [
        "plt.imshow(xtrain[0] , cmap = 'gray')\n",
        "plt.show()"
      ],
      "metadata": {
        "colab": {
          "base_uri": "https://localhost:8080/",
          "height": 265
        },
        "id": "9UpAalYL0yE2",
        "outputId": "0b38263b-5aa7-403f-c141-619cc6a155df"
      },
      "execution_count": 23,
      "outputs": [
        {
          "output_type": "display_data",
          "data": {
            "text/plain": [
              "<Figure size 432x288 with 1 Axes>"
            ],
            "image/png": "[encoded data removed]"
          },
          "metadata": {
            "needs_background": "light"
          }
        }
      ]
    },
    {
      "cell_type": "code",
      "source": [
        "#normalize\n",
        "xtrain = xtrain / 255.0\n",
        "xtest = xtest / 255.0"
      ],
      "metadata": {
        "id": "gvqilIKt04CN"
      },
      "execution_count": 24,
      "outputs": []
    },
    {
      "cell_type": "code",
      "source": [
        "xtrain.shape"
      ],
      "metadata": {
        "colab": {
          "base_uri": "https://localhost:8080/"
        },
        "id": "zfFEONxBaZV4",
        "outputId": "9e781c28-db34-47d6-e41e-6ba9a3ec6b31"
      },
      "execution_count": 25,
      "outputs": [
        {
          "output_type": "execute_result",
          "data": {
            "text/plain": [
              "(60000, 28, 28)"
            ]
          },
          "metadata": {},
          "execution_count": 25
        }
      ]
    },
    {
      "cell_type": "code",
      "source": [
        "xtrain = xtrain[ : , : , : , None] ;\n",
        "xtest = xtest[ : , : , : , None]"
      ],
      "metadata": {
        "id": "BEVrTzUmatAh"
      },
      "execution_count": 26,
      "outputs": []
    },
    {
      "cell_type": "code",
      "source": [
        "#resize\n",
        "xtrain = tf.image.resize(xtrain , (32 , 32) )\n",
        "xtest = tf.image.resize(xtest ,(32 , 32) )"
      ],
      "metadata": {
        "id": "JXqfVByRZLuw"
      },
      "execution_count": 27,
      "outputs": []
    },
    {
      "cell_type": "code",
      "source": [
        "model = tf.keras.Sequential()\n",
        "model.add(tf.keras.layers.Conv2D(16 , (5 , 5) , input_shape = (32 , 32 , 1), activation = 'relu'))\n",
        "model.add(tf.keras.layers.MaxPool2D())\n",
        "model.add(tf.keras.layers.Conv2D(8 , (5 , 5) , activation = 'relu'))\n",
        "model.add(tf.keras.layers.MaxPool2D())\n",
        "model.add(tf.keras.layers.Flatten())\n",
        "model.add(tf.keras.layers.Dense(128 , activation = 'relu'))\n",
        "model.add(tf.keras.layers.Dense(64 , activation  = 'relu'))\n",
        "model.add(tf.keras.layers.Dense(10 , activation  = 'softmax'))\n",
        "model.compile(loss = 'sparse_categorical_crossentropy' , optimizer = 'sgd' , metrics = 'accuracy')\n",
        "#sparse no need to one-hot encoding "
      ],
      "metadata": {
        "id": "bYn4nk7galDa"
      },
      "execution_count": 34,
      "outputs": []
    },
    {
      "cell_type": "code",
      "source": [
        "model.summary()"
      ],
      "metadata": {
        "colab": {
          "base_uri": "https://localhost:8080/"
        },
        "id": "rXyTo6JHa2DU",
        "outputId": "1b4b241c-192b-4dad-972d-fc74e623a8a2"
      },
      "execution_count": 35,
      "outputs": [
        {
          "output_type": "stream",
          "name": "stdout",
          "text": [
            "Model: \"sequential_2\"\n",
            "_________________________________________________________________\n",
            " Layer (type)                Output Shape              Param #   \n",
            "=================================================================\n",
            " conv2d_1 (Conv2D)           (None, 28, 28, 16)        416       \n",
            "                                                                 \n",
            " max_pooling2d (MaxPooling2D  (None, 14, 14, 16)       0         \n",
            " )                                                               \n",
            "                                                                 \n",
            " conv2d_2 (Conv2D)           (None, 10, 10, 8)         3208      \n",
            "                                                                 \n",
            " max_pooling2d_1 (MaxPooling  (None, 5, 5, 8)          0         \n",
            " 2D)                                                             \n",
            "                                                                 \n",
            " flatten (Flatten)           (None, 200)               0         \n",
            "                                                                 \n",
            " dense (Dense)               (None, 128)               25728     \n",
            "                                                                 \n",
            " dense_1 (Dense)             (None, 64)                8256      \n",
            "                                                                 \n",
            " dense_2 (Dense)             (None, 10)                650       \n",
            "                                                                 \n",
            "=================================================================\n",
            "Total params: 38,258\n",
            "Trainable params: 38,258\n",
            "Non-trainable params: 0\n",
            "_________________________________________________________________\n"
          ]
        }
      ]
    },
    {
      "cell_type": "code",
      "source": [
        "tf.keras.utils.plot_model(model , show_shapes = True)"
      ],
      "metadata": {
        "colab": {
          "base_uri": "https://localhost:8080/",
          "height": 976
        },
        "id": "9HhgVgM4baA_",
        "outputId": "4eb0f7ed-4919-4932-d92e-6f8c236e009e"
      },
      "execution_count": 37,
      "outputs": [
        {
          "output_type": "execute_result",
          "data": {
            "image/png": "[encoded data removed]",
            "text/plain": [
              "<IPython.core.display.Image object>"
            ]
          },
          "metadata": {},
          "execution_count": 37
        }
      ]
    },
    {
      "cell_type": "code",
      "source": [
        "model.fit(xtrain , ytrain , epochs = 50 , validation_data = (xtest, ytest))"
      ],
      "metadata": {
        "colab": {
          "base_uri": "https://localhost:8080/"
        },
        "id": "3UmUCeapc2kM",
        "outputId": "d7720c7b-0160-45de-a694-8ae5990ec6dc"
      },
      "execution_count": 39,
      "outputs": [
        {
          "output_type": "stream",
          "name": "stdout",
          "text": [
            "Epoch 1/50\n",
            "1875/1875 [==============================] - 8s 3ms/step - loss: 0.4837 - accuracy: 0.8512 - val_loss: 0.1662 - val_accuracy: 0.9499\n",
            "Epoch 2/50\n",
            "1875/1875 [==============================] - 6s 3ms/step - loss: 0.1323 - accuracy: 0.9596 - val_loss: 0.1084 - val_accuracy: 0.9678\n",
            "Epoch 3/50\n",
            "1875/1875 [==============================] - 6s 3ms/step - loss: 0.0981 - accuracy: 0.9703 - val_loss: 0.0772 - val_accuracy: 0.9758\n",
            "Epoch 4/50\n",
            "1875/1875 [==============================] - 7s 4ms/step - loss: 0.0824 - accuracy: 0.9746 - val_loss: 0.0765 - val_accuracy: 0.9766\n",
            "Epoch 5/50\n",
            "1875/1875 [==============================] - 10s 6ms/step - loss: 0.0712 - accuracy: 0.9780 - val_loss: 0.0626 - val_accuracy: 0.9792\n",
            "Epoch 6/50\n",
            "1875/1875 [==============================] - 9s 5ms/step - loss: 0.0630 - accuracy: 0.9807 - val_loss: 0.0586 - val_accuracy: 0.9814\n",
            "Epoch 7/50\n",
            "1875/1875 [==============================] - 11s 6ms/step - loss: 0.0565 - accuracy: 0.9826 - val_loss: 0.0695 - val_accuracy: 0.9760\n",
            "Epoch 8/50\n",
            "1875/1875 [==============================] - 10s 5ms/step - loss: 0.0516 - accuracy: 0.9837 - val_loss: 0.0487 - val_accuracy: 0.9837\n",
            "Epoch 9/50\n",
            "1875/1875 [==============================] - 8s 4ms/step - loss: 0.0471 - accuracy: 0.9852 - val_loss: 0.0525 - val_accuracy: 0.9832\n",
            "Epoch 10/50\n",
            "1875/1875 [==============================] - 6s 3ms/step - loss: 0.0436 - accuracy: 0.9861 - val_loss: 0.0464 - val_accuracy: 0.9846\n",
            "Epoch 11/50\n",
            "1875/1875 [==============================] - 6s 3ms/step - loss: 0.0397 - accuracy: 0.9877 - val_loss: 0.0473 - val_accuracy: 0.9839\n",
            "Epoch 12/50\n",
            "1875/1875 [==============================] - 7s 4ms/step - loss: 0.0376 - accuracy: 0.9883 - val_loss: 0.0475 - val_accuracy: 0.9840\n",
            "Epoch 13/50\n",
            "1875/1875 [==============================] - 7s 4ms/step - loss: 0.0349 - accuracy: 0.9890 - val_loss: 0.0452 - val_accuracy: 0.9857\n",
            "Epoch 14/50\n",
            "1875/1875 [==============================] - 6s 3ms/step - loss: 0.0329 - accuracy: 0.9901 - val_loss: 0.0453 - val_accuracy: 0.9853\n",
            "Epoch 15/50\n",
            "1875/1875 [==============================] - 6s 3ms/step - loss: 0.0301 - accuracy: 0.9904 - val_loss: 0.0462 - val_accuracy: 0.9858\n",
            "Epoch 16/50\n",
            "1875/1875 [==============================] - 7s 4ms/step - loss: 0.0290 - accuracy: 0.9912 - val_loss: 0.0398 - val_accuracy: 0.9874\n",
            "Epoch 17/50\n",
            "1875/1875 [==============================] - 6s 3ms/step - loss: 0.0271 - accuracy: 0.9916 - val_loss: 0.0388 - val_accuracy: 0.9873\n",
            "Epoch 18/50\n",
            "1875/1875 [==============================] - 7s 4ms/step - loss: 0.0258 - accuracy: 0.9919 - val_loss: 0.0485 - val_accuracy: 0.9859\n",
            "Epoch 19/50\n",
            "1875/1875 [==============================] - 7s 4ms/step - loss: 0.0238 - accuracy: 0.9930 - val_loss: 0.0435 - val_accuracy: 0.9869\n",
            "Epoch 20/50\n",
            "1875/1875 [==============================] - 7s 4ms/step - loss: 0.0224 - accuracy: 0.9931 - val_loss: 0.0384 - val_accuracy: 0.9880\n",
            "Epoch 21/50\n",
            "1875/1875 [==============================] - 7s 4ms/step - loss: 0.0212 - accuracy: 0.9934 - val_loss: 0.0439 - val_accuracy: 0.9857\n",
            "Epoch 22/50\n",
            "1875/1875 [==============================] - 8s 4ms/step - loss: 0.0195 - accuracy: 0.9941 - val_loss: 0.0411 - val_accuracy: 0.9885\n",
            "Epoch 23/50\n",
            "1875/1875 [==============================] - 6s 3ms/step - loss: 0.0188 - accuracy: 0.9940 - val_loss: 0.0386 - val_accuracy: 0.9889\n",
            "Epoch 24/50\n",
            "1875/1875 [==============================] - 8s 4ms/step - loss: 0.0174 - accuracy: 0.9948 - val_loss: 0.0446 - val_accuracy: 0.9874\n",
            "Epoch 25/50\n",
            "1875/1875 [==============================] - 7s 4ms/step - loss: 0.0164 - accuracy: 0.9951 - val_loss: 0.0431 - val_accuracy: 0.9868\n",
            "Epoch 26/50\n",
            "1875/1875 [==============================] - 6s 3ms/step - loss: 0.0157 - accuracy: 0.9952 - val_loss: 0.0388 - val_accuracy: 0.9892\n",
            "Epoch 27/50\n",
            "1875/1875 [==============================] - 7s 4ms/step - loss: 0.0148 - accuracy: 0.9953 - val_loss: 0.0400 - val_accuracy: 0.9884\n",
            "Epoch 28/50\n",
            "1875/1875 [==============================] - 7s 4ms/step - loss: 0.0141 - accuracy: 0.9955 - val_loss: 0.0378 - val_accuracy: 0.9889\n",
            "Epoch 29/50\n",
            "1875/1875 [==============================] - 7s 4ms/step - loss: 0.0126 - accuracy: 0.9964 - val_loss: 0.0445 - val_accuracy: 0.9868\n",
            "Epoch 30/50\n",
            "1875/1875 [==============================] - 6s 3ms/step - loss: 0.0125 - accuracy: 0.9963 - val_loss: 0.0426 - val_accuracy: 0.9880\n",
            "Epoch 31/50\n",
            "1875/1875 [==============================] - 7s 4ms/step - loss: 0.0116 - accuracy: 0.9965 - val_loss: 0.0425 - val_accuracy: 0.9883\n",
            "Epoch 32/50\n",
            "1875/1875 [==============================] - 7s 4ms/step - loss: 0.0107 - accuracy: 0.9968 - val_loss: 0.0399 - val_accuracy: 0.9888\n",
            "Epoch 33/50\n",
            "1875/1875 [==============================] - 6s 3ms/step - loss: 0.0108 - accuracy: 0.9965 - val_loss: 0.0406 - val_accuracy: 0.9885\n",
            "Epoch 34/50\n",
            "1875/1875 [==============================] - 7s 4ms/step - loss: 0.0096 - accuracy: 0.9974 - val_loss: 0.0479 - val_accuracy: 0.9876\n",
            "Epoch 35/50\n",
            "1875/1875 [==============================] - 6s 3ms/step - loss: 0.0090 - accuracy: 0.9973 - val_loss: 0.0466 - val_accuracy: 0.9869\n",
            "Epoch 36/50\n",
            "1875/1875 [==============================] - 6s 3ms/step - loss: 0.0084 - accuracy: 0.9976 - val_loss: 0.0463 - val_accuracy: 0.9879\n",
            "Epoch 37/50\n",
            "1875/1875 [==============================] - 6s 3ms/step - loss: 0.0085 - accuracy: 0.9973 - val_loss: 0.0456 - val_accuracy: 0.9870\n",
            "Epoch 38/50\n",
            "1875/1875 [==============================] - 6s 3ms/step - loss: 0.0073 - accuracy: 0.9979 - val_loss: 0.0501 - val_accuracy: 0.9872\n",
            "Epoch 39/50\n",
            "1875/1875 [==============================] - 7s 4ms/step - loss: 0.0074 - accuracy: 0.9978 - val_loss: 0.0442 - val_accuracy: 0.9888\n",
            "Epoch 40/50\n",
            "1875/1875 [==============================] - 7s 4ms/step - loss: 0.0060 - accuracy: 0.9983 - val_loss: 0.0682 - val_accuracy: 0.9843\n",
            "Epoch 41/50\n",
            "1875/1875 [==============================] - 7s 4ms/step - loss: 0.0065 - accuracy: 0.9982 - val_loss: 0.0560 - val_accuracy: 0.9862\n",
            "Epoch 42/50\n",
            "1875/1875 [==============================] - 7s 4ms/step - loss: 0.0061 - accuracy: 0.9984 - val_loss: 0.0496 - val_accuracy: 0.9876\n",
            "Epoch 43/50\n",
            "1875/1875 [==============================] - 6s 3ms/step - loss: 0.0047 - accuracy: 0.9987 - val_loss: 0.0530 - val_accuracy: 0.9877\n",
            "Epoch 44/50\n",
            "1875/1875 [==============================] - 6s 3ms/step - loss: 0.0048 - accuracy: 0.9987 - val_loss: 0.0472 - val_accuracy: 0.9877\n",
            "Epoch 45/50\n",
            "1875/1875 [==============================] - 7s 4ms/step - loss: 0.0052 - accuracy: 0.9984 - val_loss: 0.0453 - val_accuracy: 0.9885\n",
            "Epoch 46/50\n",
            "1875/1875 [==============================] - 6s 3ms/step - loss: 0.0043 - accuracy: 0.9988 - val_loss: 0.0464 - val_accuracy: 0.9884\n",
            "Epoch 47/50\n",
            "1875/1875 [==============================] - 6s 3ms/step - loss: 0.0035 - accuracy: 0.9991 - val_loss: 0.0478 - val_accuracy: 0.9886\n",
            "Epoch 48/50\n",
            "1875/1875 [==============================] - 6s 3ms/step - loss: 0.0032 - accuracy: 0.9992 - val_loss: 0.0474 - val_accuracy: 0.9890\n",
            "Epoch 49/50\n",
            "1875/1875 [==============================] - 6s 3ms/step - loss: 0.0031 - accuracy: 0.9992 - val_loss: 0.0498 - val_accuracy: 0.9880\n",
            "Epoch 50/50\n",
            "1875/1875 [==============================] - 6s 3ms/step - loss: 0.0030 - accuracy: 0.9993 - val_loss: 0.0507 - val_accuracy: 0.9878\n"
          ]
        },
        {
          "output_type": "execute_result",
          "data": {
            "text/plain": [
              "<keras.callbacks.History at 0x7f6fb8990510>"
            ]
          },
          "metadata": {},
          "execution_count": 39
        }
      ]
    },
    {
      "cell_type": "code",
      "source": [
        "z = model.predict(xtest)"
      ],
      "metadata": {
        "colab": {
          "base_uri": "https://localhost:8080/"
        },
        "id": "CLRoi8ZrcndY",
        "outputId": "a51435e5-02a6-4a34-e8bf-66c13615e92a"
      },
      "execution_count": 40,
      "outputs": [
        {
          "output_type": "stream",
          "name": "stdout",
          "text": [
            "313/313 [==============================] - 1s 2ms/step\n"
          ]
        }
      ]
    },
    {
      "cell_type": "code",
      "source": [
        "print(np.sum(z.argmax(axis = 1) == ytest) / len(ytest) * 100 , '%')\n"
      ],
      "metadata": {
        "colab": {
          "base_uri": "https://localhost:8080/"
        },
        "id": "n9Lx9pKfcv3K",
        "outputId": "dea1690c-09fc-490b-f03d-f883bb2a9842"
      },
      "execution_count": 45,
      "outputs": [
        {
          "output_type": "stream",
          "name": "stdout",
          "text": [
            "98.78 %\n"
          ]
        }
      ]
    },
    {
      "cell_type": "code",
      "source": [
        "z.shape"
      ],
      "metadata": {
        "colab": {
          "base_uri": "https://localhost:8080/"
        },
        "id": "RQvEr8A1eYTo",
        "outputId": "25a6354d-d54d-4490-c7db-a02778a7ad3b"
      },
      "execution_count": 46,
      "outputs": [
        {
          "output_type": "execute_result",
          "data": {
            "text/plain": [
              "(10000, 10)"
            ]
          },
          "metadata": {},
          "execution_count": 46
        }
      ]
    },
    {
      "cell_type": "code",
      "source": [
        "ytest.shape"
      ],
      "metadata": {
        "colab": {
          "base_uri": "https://localhost:8080/"
        },
        "id": "TpFfvYFVevMI",
        "outputId": "dd515f48-4a28-4e0f-fb93-3da52c295d78"
      },
      "execution_count": 49,
      "outputs": [
        {
          "output_type": "execute_result",
          "data": {
            "text/plain": [
              "(10000,)"
            ]
          },
          "metadata": {},
          "execution_count": 49
        }
      ]
    }
  ]
}