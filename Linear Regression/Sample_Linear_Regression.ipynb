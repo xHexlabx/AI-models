{
  "nbformat": 4,
  "nbformat_minor": 0,
  "metadata": {
    "colab": {
      "provenance": [],
      "authorship_tag": "ABX9TyMCvNgcwC5yu2boU0DutQZX",
      "include_colab_link": true
    },
    "kernelspec": {
      "name": "python3",
      "display_name": "Python 3"
    },
    "language_info": {
      "name": "python"
    },
    "accelerator": "GPU",
    "gpuClass": "standard"
  },
  "cells": [
    {
      "cell_type": "markdown",
      "metadata": {
        "id": "view-in-github",
        "colab_type": "text"
      },
      "source": [
        "<a href=\"https://colab.research.google.com/github/xHexlabx/AI-models/blob/main/Linear%20Regression/Sample_Linear_Regression.ipynb\" target=\"_parent\"><img src=\"https://colab.research.google.com/assets/colab-badge.svg\" alt=\"Open In Colab\"/></a>"
      ]
    },
    {
      "cell_type": "code",
      "execution_count": 1,
      "metadata": {
        "id": "7xgHBvKsmr41"
      },
      "outputs": [],
      "source": [
        "import numpy as np\n",
        "import tensorflow as tf\n",
        "import matplotlib.pyplot as plt"
      ]
    },
    {
      "cell_type": "code",
      "source": [
        "x = np.random.rand(40)\n",
        "y = 0.5 * x + 0.2 + 0.1 * np.random.rand(40)"
      ],
      "metadata": {
        "id": "pz_VQVLSofe_"
      },
      "execution_count": 2,
      "outputs": []
    },
    {
      "cell_type": "code",
      "source": [
        "W = tf.Variable(np.random.rand())\n",
        "b = tf.Variable(np.random.rand())\n",
        "lr = 0.1 \n",
        "\n",
        "for epoch in range(200) :\n",
        "    with tf.GradientTape() as t :\n",
        "        Y = W * x + b\n",
        "        loss = tf.reduce_mean( (Y - y) ** 2 )\n",
        "    dW , db = t.gradient(loss , [W , b])\n",
        "    W.assign_sub(lr * dW)\n",
        "    b.assign_sub(lr * db)\n",
        "    print(f'epoch = {epoch} W = {W.numpy()} b = {b.numpy()} loss = {loss.numpy()} ')"
      ],
      "metadata": {
        "id": "2uIDHZplsQ_X"
      },
      "execution_count": null,
      "outputs": []
    },
    {
      "cell_type": "code",
      "source": [
        "plt.plot(x  , y , '.b')\n",
        "plt.plot(x , Y , '.r')\n",
        "plt.show()"
      ],
      "metadata": {
        "colab": {
          "base_uri": "https://localhost:8080/",
          "height": 269
        },
        "id": "2psiZei2r7HO",
        "outputId": "d0853af4-c109-45dd-c8a0-58ab26502fae"
      },
      "execution_count": 8,
      "outputs": [
        {
          "output_type": "display_data",
          "data": {
            "text/plain": [
              "<Figure size 432x288 with 1 Axes>"
            ],
            "image/png": "[encoded data removed]"
          },
          "metadata": {
            "needs_background": "light"
          }
        }
      ]
    },
    {
      "cell_type": "code",
      "source": [],
      "metadata": {
        "id": "Y4AwqImRu8dB"
      },
      "execution_count": null,
      "outputs": []
    }
  ]
}