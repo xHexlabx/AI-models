{
  "nbformat": 4,
  "nbformat_minor": 0,
  "metadata": {
    "colab": {
      "provenance": [],
      "authorship_tag": "ABX9TyMyUmNKhgZISlSbSt89p28h",
      "include_colab_link": true
    },
    "kernelspec": {
      "name": "python3",
      "display_name": "Python 3"
    },
    "language_info": {
      "name": "python"
    },
    "accelerator": "GPU",
    "gpuClass": "standard"
  },
  "cells": [
    {
      "cell_type": "markdown",
      "metadata": {
        "id": "view-in-github",
        "colab_type": "text"
      },
      "source": [
        "<a href=\"https://colab.research.google.com/github/xHexlabx/AI-models/blob/main/Linear%20Regression/IQ_Test.ipynb\" target=\"_parent\"><img src=\"https://colab.research.google.com/assets/colab-badge.svg\" alt=\"Open In Colab\"/></a>"
      ]
    },
    {
      "cell_type": "code",
      "execution_count": 1,
      "metadata": {
        "id": "9DotRTOrcKvy"
      },
      "outputs": [],
      "source": [
        "import numpy as np\n",
        "import tensorflow as tf\n",
        "import matplotlib.pyplot as plt\n",
        "from tensorflow.keras import layers , Model"
      ]
    },
    {
      "cell_type": "code",
      "source": [
        "x = []\n",
        "y = []"
      ],
      "metadata": {
        "id": "fPm5Qss-cigR"
      },
      "execution_count": 2,
      "outputs": []
    },
    {
      "cell_type": "code",
      "source": [
        "for i in range(1 , 101) :\n",
        "    x.append([i , np.random.randint(1 , 10)])\n",
        "    y.append([x[i - 1][0] * x[i - 1][1] + x[i - 1][0]])"
      ],
      "metadata": {
        "id": "0PfS6DREczWQ"
      },
      "execution_count": 3,
      "outputs": []
    },
    {
      "cell_type": "code",
      "source": [
        "x = np.array(x)\n",
        "y = np.array(y)"
      ],
      "metadata": {
        "id": "r6w6z5oXhhji"
      },
      "execution_count": 4,
      "outputs": []
    },
    {
      "cell_type": "code",
      "source": [
        "inputs = tf.keras.Input(shape = [2 ,])\n",
        "outputs = layers.Dense(256 , activation = 'relu')(inputs)\n",
        "outputs = layers.Dense(256, activation = 'relu')(outputs)\n",
        "outputs = layers.Dense(256, activation = 'relu')(outputs)\n",
        "outputs = layers.Dense(256, activation = 'relu')(outputs)\n",
        "outputs = layers.Dense(256, activation = 'relu')(outputs)\n",
        "\n",
        "outputs = layers.Dense(1)(outputs)\n",
        "model = Model(inputs , outputs)\n",
        "model.compile(loss = 'mse', optimizer  =tf.keras.optimizers.Adam( learning_rate= 0.02) , metrics = 'accuracy' ) "
      ],
      "metadata": {
        "id": "WlvsHKxrc9Sx"
      },
      "execution_count": 19,
      "outputs": []
    },
    {
      "cell_type": "code",
      "source": [
        "model.fit(x , y , epochs = 1000 , verbose  = 0)"
      ],
      "metadata": {
        "colab": {
          "base_uri": "https://localhost:8080/"
        },
        "id": "oDuD5CDhdCWW",
        "outputId": "b8fc353e-7457-4247-90a2-ff4cd3058285"
      },
      "execution_count": 26,
      "outputs": [
        {
          "output_type": "execute_result",
          "data": {
            "text/plain": [
              "<keras.callbacks.History at 0x7f53fabb0520>"
            ]
          },
          "metadata": {},
          "execution_count": 26
        }
      ]
    },
    {
      "cell_type": "code",
      "source": [
        "guess = np.array([[8 , 2]])"
      ],
      "metadata": {
        "id": "Pl7i9MXgdzSQ"
      },
      "execution_count": 32,
      "outputs": []
    },
    {
      "cell_type": "code",
      "source": [
        "z = model.predict(x)"
      ],
      "metadata": {
        "colab": {
          "base_uri": "https://localhost:8080/"
        },
        "id": "xkub_KE2dvxc",
        "outputId": "d6c715d6-b925-4334-c891-23b2ee76a7ae"
      },
      "execution_count": 33,
      "outputs": [
        {
          "output_type": "stream",
          "name": "stdout",
          "text": [
            "4/4 [==============================] - 0s 3ms/step\n"
          ]
        }
      ]
    },
    {
      "cell_type": "code",
      "source": [
        "plt.plot(x , y , '.b')\n",
        "plt.plot(x , z , '.r')\n",
        "plt.show()"
      ],
      "metadata": {
        "colab": {
          "base_uri": "https://localhost:8080/",
          "height": 265
        },
        "id": "nnJ1kPjwd4Nz",
        "outputId": "fff2150c-5519-4c3c-814e-e8496a8ce47e"
      },
      "execution_count": 34,
      "outputs": [
        {
          "output_type": "display_data",
          "data": {
            "text/plain": [
              "<Figure size 432x288 with 1 Axes>"
            ],
            "image/png": "[encoded data removed]"
          },
          "metadata": {
            "needs_background": "light"
          }
        }
      ]
    },
    {
      "cell_type": "code",
      "source": [
        "vv = model.predict(np.array([[8 , 11]]))"
      ],
      "metadata": {
        "colab": {
          "base_uri": "https://localhost:8080/"
        },
        "id": "OacAanW6muu_",
        "outputId": "a8593e4c-3481-43eb-dfd6-b27f32ab6da2"
      },
      "execution_count": 35,
      "outputs": [
        {
          "output_type": "stream",
          "name": "stdout",
          "text": [
            "1/1 [==============================] - 0s 14ms/step\n"
          ]
        }
      ]
    },
    {
      "cell_type": "code",
      "source": [
        "vv"
      ],
      "metadata": {
        "colab": {
          "base_uri": "https://localhost:8080/"
        },
        "id": "Hy0hLyv_m3Yz",
        "outputId": "7ee62c25-f162-4d39-e621-beadf5f07f4b"
      },
      "execution_count": 36,
      "outputs": [
        {
          "output_type": "execute_result",
          "data": {
            "text/plain": [
              "array([[161.51051]], dtype=float32)"
            ]
          },
          "metadata": {},
          "execution_count": 36
        }
      ]
    },
    {
      "cell_type": "code",
      "source": [],
      "metadata": {
        "id": "T949RtATm_KA"
      },
      "execution_count": 36,
      "outputs": []
    }
  ]
}